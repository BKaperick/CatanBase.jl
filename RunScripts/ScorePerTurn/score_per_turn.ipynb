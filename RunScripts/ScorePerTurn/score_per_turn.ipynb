{
 "cells": [
  {
   "cell_type": "code",
   "execution_count": null,
   "id": "79fe9777",
   "metadata": {},
   "outputs": [],
   "source": [
    "configs_path = \"./Config.toml\""
   ]
  },
  {
   "cell_type": "code",
   "execution_count": null,
   "id": "7ad38877",
   "metadata": {},
   "outputs": [],
   "source": [
    "using Revise\n",
    "using Catan"
   ]
  },
  {
   "cell_type": "code",
   "execution_count": null,
   "id": "379f1b7f",
   "metadata": {},
   "outputs": [],
   "source": [
    "using CatanLearning"
   ]
  },
  {
   "cell_type": "code",
   "execution_count": null,
   "id": "df962cce",
   "metadata": {},
   "outputs": [],
   "source": [
    "configs = Catan.parse_configs(configs_path)\n",
    "rm(configs[\"SAVE_FILE\"])\n",
    "configs = Catan.parse_configs(configs_path)\n",
    "board, winner = Catan.run(configs, 456)\n",
    "close(configs[\"SAVE_FILE_IO\"])"
   ]
  },
  {
   "cell_type": "code",
   "execution_count": null,
   "id": "7d629f12",
   "metadata": {},
   "outputs": [],
   "source": []
  },
  {
   "cell_type": "code",
   "execution_count": null,
   "id": "07dd1b24",
   "metadata": {},
   "outputs": [],
   "source": [
    "BoardApi.print_board(board)"
   ]
  },
  {
   "cell_type": "code",
   "execution_count": null,
   "id": "9576bfad",
   "metadata": {},
   "outputs": [],
   "source": [
    "\n",
    "\n",
    "game = Game(configs)\n",
    "board = Board(configs)\n",
    "scores = Dict([p.player.team => [] for p in game.players])\n",
    "turn_num = Dict(1 => 1)\n",
    "prev_turn_num = 1\n",
    "for (i,line) in enumerate(readlines(\"savefile.txt\"))\n",
    "    for player in game.players\n",
    "        score = get_state_score(board, player)\n",
    "        push!(scores[player.player.team], score)\n",
    "    end\n",
    "    if game.turn_num != prev_turn_num\n",
    "        turn_num[game.turn_num] = i\n",
    "    end\n",
    "    \n",
    "    parse_and_execute_api_call(game, board, line)\n",
    "end\n",
    "BoardApi.print_board(board)\n"
   ]
  },
  {
   "cell_type": "markdown",
   "id": "2146ce89",
   "metadata": {},
   "source": []
  },
  {
   "cell_type": "code",
   "execution_count": null,
   "id": "5281331a",
   "metadata": {},
   "outputs": [],
   "source": [
    "\n",
    "winner = GameRunner.get_winner(game, board, game.players)\n",
    "for player in game.players\n",
    "    println(player)\n",
    "end\n",
    "winner"
   ]
  },
  {
   "cell_type": "code",
   "execution_count": null,
   "id": "431d3097",
   "metadata": {},
   "outputs": [],
   "source": [
    "using Plots\n",
    "x = Integer(round(game.turn_num / 15))\n",
    "x = x - (x%5)\n",
    "println(game.turn_num)\n",
    "xtick_y = 1:x:game.turn_num\n",
    "xtick_x = sort(collect(values([turn_num[key] for key in xtick_y])))\n",
    "plt = plot()\n",
    "for (t,s) in scores\n",
    "    plot!(s; color=t, legend=false,xticks = (xtick_x, xtick_y))\n",
    "end\n",
    "plot!()\n",
    "plt"
   ]
  },
  {
   "cell_type": "code",
   "execution_count": null,
   "id": "54f6707e",
   "metadata": {},
   "outputs": [],
   "source": [
    "compute_features(board, game.players[1].player)"
   ]
  },
  {
   "cell_type": "code",
   "execution_count": null,
   "id": "0de7fe64",
   "metadata": {},
   "outputs": [],
   "source": []
  }
 ],
 "metadata": {
  "kernelspec": {
   "display_name": "Julia 1.11.5",
   "language": "julia",
   "name": "julia-1.11"
  },
  "language_info": {
   "file_extension": ".jl",
   "mimetype": "application/julia",
   "name": "julia",
   "version": "1.11.5"
  }
 },
 "nbformat": 4,
 "nbformat_minor": 5
}
