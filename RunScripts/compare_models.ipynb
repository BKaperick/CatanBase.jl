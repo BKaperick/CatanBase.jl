{
 "cells": [
  {
   "cell_type": "code",
   "execution_count": 39,
   "id": "6cf06444",
   "metadata": {},
   "outputs": [
    {
     "data": {
      "text/plain": [
       "MLJModelInterface"
      ]
     },
     "metadata": {},
     "output_type": "display_data"
    }
   ],
   "source": [
    "using Revise\n",
    "using Catan\n",
    "using CatanLearning\n",
    "using Random\n",
    "using CSV\n",
    "using MLJ\n",
    "using DataFrames\n",
    "import DataFramesMeta as DFM\n",
    "using DelimitedFiles\n",
    "import MLJModelInterface\n",
    "const MMI = MLJModelInterface"
   ]
  },
  {
   "cell_type": "code",
   "execution_count": 40,
   "id": "ed768ba4",
   "metadata": {},
   "outputs": [
    {
     "data": {
      "text/plain": [
       "trained Machine; caches model-specific representations of data\n",
       "  model: NaivePublicVictoryPoints()\n",
       "  args: \n",
       "    1:\tSource @978 ⏎ Nothing\n",
       "    2:\tSource @471 ⏎ Nothing\n"
      ]
     },
     "metadata": {},
     "output_type": "display_data"
    }
   ],
   "source": [
    "function naive_model_proba(X_in)\n",
    "    X = X_in[1]\n",
    "    #println(\"analyzing $X\")\n",
    "    unscaled_feature = X[!,:CountSettlement] + X[!,:CountCity] + 2*(X[!,:HasLargestArmy] + X[!,:HasLongestRoad])\n",
    "    return min.(unscaled_feature ./ 10, 1.0)\n",
    "end\n",
    "\n",
    "MMI.@mlj_model mutable struct NaivePublicVictoryPoints <: MLJModelInterface.Deterministic\n",
    "end\n",
    "\n",
    "MMI.fit(::NaivePublicVictoryPoints, verbosity, data...) = (nothing, nothing, nothing)\n",
    "MMI.predict(model::NaivePublicVictoryPoints, fitresult, new_data...) = naive_model_proba(new_data)\n",
    "\n",
    "model = NaivePublicVictoryPoints()\n",
    "naive_machine = machine(model, nothing, nothing) |> MLJ.fit!"
   ]
  },
  {
   "cell_type": "code",
   "execution_count": 52,
   "id": "ee5376d6",
   "metadata": {},
   "outputs": [
    {
     "name": "stdout",
     "output_type": "stream",
     "text": [
      "Savefile set to savefile.txt\n",
      "Configs loaded from configs/feature_generation.toml\n"
     ]
    },
    {
     "data": {
      "text/plain": [
       "trained Machine; caches model-specific representations of data\n",
       "  model: RandomForestClassifier(max_depth = -1, …)\n",
       "  args: \n"
      ]
     },
     "metadata": {},
     "output_type": "display_data"
    }
   ],
   "source": [
    "config_file = \"configs/feature_generation.toml\"\n",
    "(configs, player_configs, logger) = Catan.parse_configs(config_file)\n",
    "rf_machine = CatanLearning.try_load_public_model_from_csv(:any, configs)\n",
    "#rf_machine = CatanLearning.train_model_from_csv(CatanLearning.load_tree_model(), player_configs[\"PUBLIC_FEATURES\"], num_tuning_iterations = 1)"
   ]
  },
  {
   "cell_type": "code",
   "execution_count": 46,
   "id": "e98cf122",
   "metadata": {},
   "outputs": [
    {
     "name": "stdout",
     "output_type": "stream",
     "text": [
      "CountSettlement\n",
      "CountTotalSettlement\n",
      "CountCity\n",
      "CountRoad\n",
      "SumWoodDiceWeight\n",
      "SumBrickDiceWeight\n",
      "SumPastureDiceWeight\n",
      "SumStoneDiceWeight\n",
      "SumGrainDiceWeight\n",
      "CountPortWood\n",
      "CountPortBrick\n",
      "CountPortPasture\n",
      "CountPortStone\n",
      "CountPortGrain\n",
      "CountTotalWood\n",
      "CountTotalBrick\n",
      "CountTotalPasture\n",
      "CountTotalStone\n",
      "CountTotalGrain\n",
      "CountDevCardsKnight\n",
      "CountDevCardsMonopoly\n",
      "CountDevCardsYearOfPlenty\n",
      "CountDevCardsRoadBuilding\n",
      "CountDevCardsVictoryPoint\n",
      "HasLargestArmy\n",
      "HasLongestRoad\n"
     ]
    },
    {
     "data": {
      "text/plain": [
       "27"
      ]
     },
     "metadata": {},
     "output_type": "display_data"
    }
   ],
   "source": [
    "test_data_csv = \"./data/public_features.csv\"\n",
    "df = CatanLearning.load_typed_features_from_csv(test_data_csv)\n",
    "y, X = unpack(df, ==(:WonGame));\n",
    "typeof(X)\n",
    "for col in names(X)\n",
    "    println(col)\n",
    "end\n",
    "length(names(df))"
   ]
  },
  {
   "cell_type": "code",
   "execution_count": 49,
   "id": "4980c4c6",
   "metadata": {},
   "outputs": [
    {
     "data": {
      "text/html": [
       "<div><div style = \"float: left;\"><span>4000×23 DataFrame</span></div><div style = \"float: right;\"><span style = \"font-style: italic;\">3975 rows omitted</span></div><div style = \"clear: both;\"></div></div><div class = \"data-frame\" style = \"overflow-x: scroll;\"><table class = \"data-frame\" style = \"margin-bottom: 6px;\"><thead><tr class = \"header\"><th class = \"rowNumber\" style = \"font-weight: bold; text-align: right;\">Row</th><th style = \"text-align: left;\">CountSettlement</th><th style = \"text-align: left;\">CountTotalSettlement</th><th style = \"text-align: left;\">CountCity</th><th style = \"text-align: left;\">CountRoad</th><th style = \"text-align: left;\">SumWoodDiceWeight</th><th style = \"text-align: left;\">SumBrickDiceWeight</th><th style = \"text-align: left;\">SumPastureDiceWeight</th><th style = \"text-align: left;\">SumStoneDiceWeight</th><th style = \"text-align: left;\">SumGrainDiceWeight</th><th style = \"text-align: left;\">CountPortWood</th><th style = \"text-align: left;\">CountPortBrick</th><th style = \"text-align: left;\">CountPortPasture</th><th style = \"text-align: left;\">CountPortStone</th><th style = \"text-align: left;\">CountPortGrain</th><th style = \"text-align: left;\">CountDevCardsUsedKnight</th><th style = \"text-align: left;\">CountDevCardsUsedMonopoly</th><th style = \"text-align: left;\">CountDevCardsUsedYearOfPlenty</th><th style = \"text-align: left;\">CountDevCardsUsedRoadBuilding</th><th style = \"text-align: left;\">HasLargestArmy</th><th style = \"text-align: left;\">HasLongestRoad</th><th style = \"text-align: left;\">CountVisibleVictoryPoint</th><th style = \"text-align: left;\">HasMostPoints</th><th style = \"text-align: left;\">WonGame</th></tr><tr class = \"subheader headerLastRow\"><th class = \"rowNumber\" style = \"font-weight: bold; text-align: right;\"></th><th title = \"Int8\" style = \"text-align: left;\">Int8</th><th title = \"Int8\" style = \"text-align: left;\">Int8</th><th title = \"Int8\" style = \"text-align: left;\">Int8</th><th title = \"Int8\" style = \"text-align: left;\">Int8</th><th title = \"Int8\" style = \"text-align: left;\">Int8</th><th title = \"Int8\" style = \"text-align: left;\">Int8</th><th title = \"Int8\" style = \"text-align: left;\">Int8</th><th title = \"Int8\" style = \"text-align: left;\">Int8</th><th title = \"Int8\" style = \"text-align: left;\">Int8</th><th title = \"Int8\" style = \"text-align: left;\">Int8</th><th title = \"Int8\" style = \"text-align: left;\">Int8</th><th title = \"Int8\" style = \"text-align: left;\">Int8</th><th title = \"Int8\" style = \"text-align: left;\">Int8</th><th title = \"Int8\" style = \"text-align: left;\">Int8</th><th title = \"Int8\" style = \"text-align: left;\">Int8</th><th title = \"Int8\" style = \"text-align: left;\">Int8</th><th title = \"Int8\" style = \"text-align: left;\">Int8</th><th title = \"Int8\" style = \"text-align: left;\">Int8</th><th title = \"Bool\" style = \"text-align: left;\">Bool</th><th title = \"Bool\" style = \"text-align: left;\">Bool</th><th title = \"Int8\" style = \"text-align: left;\">Int8</th><th title = \"Bool\" style = \"text-align: left;\">Bool</th><th title = \"CategoricalArrays.CategoricalValue{Bool, UInt32}\" style = \"text-align: left;\">Cat…</th></tr></thead><tbody><tr><td class = \"rowNumber\" style = \"font-weight: bold; text-align: right;\">1</td><td style = \"text-align: right;\">2</td><td style = \"text-align: right;\">2</td><td style = \"text-align: right;\">0</td><td style = \"text-align: right;\">4</td><td style = \"text-align: right;\">0</td><td style = \"text-align: right;\">2</td><td style = \"text-align: right;\">0</td><td style = \"text-align: right;\">5</td><td style = \"text-align: right;\">0</td><td style = \"text-align: right;\">0</td><td style = \"text-align: right;\">0</td><td style = \"text-align: right;\">1</td><td style = \"text-align: right;\">0</td><td style = \"text-align: right;\">0</td><td style = \"text-align: right;\">1</td><td style = \"text-align: right;\">0</td><td style = \"text-align: right;\">0</td><td style = \"text-align: right;\">0</td><td style = \"text-align: right;\">false</td><td style = \"text-align: right;\">false</td><td style = \"text-align: right;\">2</td><td style = \"text-align: right;\">false</td><td style = \"text-align: left;\">false</td></tr><tr><td class = \"rowNumber\" style = \"font-weight: bold; text-align: right;\">2</td><td style = \"text-align: right;\">2</td><td style = \"text-align: right;\">2</td><td style = \"text-align: right;\">0</td><td style = \"text-align: right;\">14</td><td style = \"text-align: right;\">4</td><td style = \"text-align: right;\">2</td><td style = \"text-align: right;\">2</td><td style = \"text-align: right;\">0</td><td style = \"text-align: right;\">0</td><td style = \"text-align: right;\">0</td><td style = \"text-align: right;\">0</td><td style = \"text-align: right;\">0</td><td style = \"text-align: right;\">0</td><td style = \"text-align: right;\">0</td><td style = \"text-align: right;\">0</td><td style = \"text-align: right;\">0</td><td style = \"text-align: right;\">0</td><td style = \"text-align: right;\">0</td><td style = \"text-align: right;\">false</td><td style = \"text-align: right;\">true</td><td style = \"text-align: right;\">4</td><td style = \"text-align: right;\">false</td><td style = \"text-align: left;\">false</td></tr><tr><td class = \"rowNumber\" style = \"font-weight: bold; text-align: right;\">3</td><td style = \"text-align: right;\">2</td><td style = \"text-align: right;\">2</td><td style = \"text-align: right;\">0</td><td style = \"text-align: right;\">2</td><td style = \"text-align: right;\">3</td><td style = \"text-align: right;\">0</td><td style = \"text-align: right;\">0</td><td style = \"text-align: right;\">4</td><td style = \"text-align: right;\">0</td><td style = \"text-align: right;\">0</td><td style = \"text-align: right;\">0</td><td style = \"text-align: right;\">0</td><td style = \"text-align: right;\">0</td><td style = \"text-align: right;\">0</td><td style = \"text-align: right;\">1</td><td style = \"text-align: right;\">0</td><td style = \"text-align: right;\">0</td><td style = \"text-align: right;\">0</td><td style = \"text-align: right;\">false</td><td style = \"text-align: right;\">false</td><td style = \"text-align: right;\">2</td><td style = \"text-align: right;\">false</td><td style = \"text-align: left;\">false</td></tr><tr><td class = \"rowNumber\" style = \"font-weight: bold; text-align: right;\">4</td><td style = \"text-align: right;\">0</td><td style = \"text-align: right;\">2</td><td style = \"text-align: right;\">2</td><td style = \"text-align: right;\">5</td><td style = \"text-align: right;\">0</td><td style = \"text-align: right;\">0</td><td style = \"text-align: right;\">16</td><td style = \"text-align: right;\">10</td><td style = \"text-align: right;\">8</td><td style = \"text-align: right;\">0</td><td style = \"text-align: right;\">0</td><td style = \"text-align: right;\">0</td><td style = \"text-align: right;\">0</td><td style = \"text-align: right;\">0</td><td style = \"text-align: right;\">8</td><td style = \"text-align: right;\">2</td><td style = \"text-align: right;\">2</td><td style = \"text-align: right;\">1</td><td style = \"text-align: right;\">true</td><td style = \"text-align: right;\">false</td><td style = \"text-align: right;\">6</td><td style = \"text-align: right;\">true</td><td style = \"text-align: left;\">true</td></tr><tr><td class = \"rowNumber\" style = \"font-weight: bold; text-align: right;\">5</td><td style = \"text-align: right;\">1</td><td style = \"text-align: right;\">4</td><td style = \"text-align: right;\">3</td><td style = \"text-align: right;\">14</td><td style = \"text-align: right;\">6</td><td style = \"text-align: right;\">6</td><td style = \"text-align: right;\">18</td><td style = \"text-align: right;\">34</td><td style = \"text-align: right;\">8</td><td style = \"text-align: right;\">0</td><td style = \"text-align: right;\">0</td><td style = \"text-align: right;\">0</td><td style = \"text-align: right;\">0</td><td style = \"text-align: right;\">0</td><td style = \"text-align: right;\">3</td><td style = \"text-align: right;\">1</td><td style = \"text-align: right;\">1</td><td style = \"text-align: right;\">1</td><td style = \"text-align: right;\">false</td><td style = \"text-align: right;\">true</td><td style = \"text-align: right;\">9</td><td style = \"text-align: right;\">true</td><td style = \"text-align: left;\">true</td></tr><tr><td class = \"rowNumber\" style = \"font-weight: bold; text-align: right;\">6</td><td style = \"text-align: right;\">2</td><td style = \"text-align: right;\">2</td><td style = \"text-align: right;\">0</td><td style = \"text-align: right;\">8</td><td style = \"text-align: right;\">4</td><td style = \"text-align: right;\">0</td><td style = \"text-align: right;\">2</td><td style = \"text-align: right;\">0</td><td style = \"text-align: right;\">7</td><td style = \"text-align: right;\">0</td><td style = \"text-align: right;\">0</td><td style = \"text-align: right;\">0</td><td style = \"text-align: right;\">0</td><td style = \"text-align: right;\">0</td><td style = \"text-align: right;\">3</td><td style = \"text-align: right;\">0</td><td style = \"text-align: right;\">1</td><td style = \"text-align: right;\">1</td><td style = \"text-align: right;\">true</td><td style = \"text-align: right;\">false</td><td style = \"text-align: right;\">4</td><td style = \"text-align: right;\">false</td><td style = \"text-align: left;\">false</td></tr><tr><td class = \"rowNumber\" style = \"font-weight: bold; text-align: right;\">7</td><td style = \"text-align: right;\">3</td><td style = \"text-align: right;\">3</td><td style = \"text-align: right;\">0</td><td style = \"text-align: right;\">11</td><td style = \"text-align: right;\">9</td><td style = \"text-align: right;\">1</td><td style = \"text-align: right;\">0</td><td style = \"text-align: right;\">0</td><td style = \"text-align: right;\">0</td><td style = \"text-align: right;\">1</td><td style = \"text-align: right;\">0</td><td style = \"text-align: right;\">0</td><td style = \"text-align: right;\">0</td><td style = \"text-align: right;\">0</td><td style = \"text-align: right;\">1</td><td style = \"text-align: right;\">0</td><td style = \"text-align: right;\">0</td><td style = \"text-align: right;\">0</td><td style = \"text-align: right;\">false</td><td style = \"text-align: right;\">false</td><td style = \"text-align: right;\">3</td><td style = \"text-align: right;\">false</td><td style = \"text-align: left;\">false</td></tr><tr><td class = \"rowNumber\" style = \"font-weight: bold; text-align: right;\">8</td><td style = \"text-align: right;\">2</td><td style = \"text-align: right;\">2</td><td style = \"text-align: right;\">0</td><td style = \"text-align: right;\">8</td><td style = \"text-align: right;\">0</td><td style = \"text-align: right;\">3</td><td style = \"text-align: right;\">0</td><td style = \"text-align: right;\">0</td><td style = \"text-align: right;\">2</td><td style = \"text-align: right;\">0</td><td style = \"text-align: right;\">0</td><td style = \"text-align: right;\">0</td><td style = \"text-align: right;\">0</td><td style = \"text-align: right;\">0</td><td style = \"text-align: right;\">1</td><td style = \"text-align: right;\">1</td><td style = \"text-align: right;\">0</td><td style = \"text-align: right;\">0</td><td style = \"text-align: right;\">false</td><td style = \"text-align: right;\">false</td><td style = \"text-align: right;\">2</td><td style = \"text-align: right;\">false</td><td style = \"text-align: left;\">false</td></tr><tr><td class = \"rowNumber\" style = \"font-weight: bold; text-align: right;\">9</td><td style = \"text-align: right;\">1</td><td style = \"text-align: right;\">3</td><td style = \"text-align: right;\">2</td><td style = \"text-align: right;\">8</td><td style = \"text-align: right;\">1</td><td style = \"text-align: right;\">0</td><td style = \"text-align: right;\">26</td><td style = \"text-align: right;\">10</td><td style = \"text-align: right;\">23</td><td style = \"text-align: right;\">0</td><td style = \"text-align: right;\">0</td><td style = \"text-align: right;\">0</td><td style = \"text-align: right;\">0</td><td style = \"text-align: right;\">0</td><td style = \"text-align: right;\">7</td><td style = \"text-align: right;\">1</td><td style = \"text-align: right;\">1</td><td style = \"text-align: right;\">2</td><td style = \"text-align: right;\">true</td><td style = \"text-align: right;\">false</td><td style = \"text-align: right;\">7</td><td style = \"text-align: right;\">true</td><td style = \"text-align: left;\">true</td></tr><tr><td class = \"rowNumber\" style = \"font-weight: bold; text-align: right;\">10</td><td style = \"text-align: right;\">0</td><td style = \"text-align: right;\">3</td><td style = \"text-align: right;\">3</td><td style = \"text-align: right;\">3</td><td style = \"text-align: right;\">2</td><td style = \"text-align: right;\">8</td><td style = \"text-align: right;\">8</td><td style = \"text-align: right;\">8</td><td style = \"text-align: right;\">8</td><td style = \"text-align: right;\">0</td><td style = \"text-align: right;\">0</td><td style = \"text-align: right;\">0</td><td style = \"text-align: right;\">0</td><td style = \"text-align: right;\">0</td><td style = \"text-align: right;\">6</td><td style = \"text-align: right;\">1</td><td style = \"text-align: right;\">1</td><td style = \"text-align: right;\">0</td><td style = \"text-align: right;\">false</td><td style = \"text-align: right;\">false</td><td style = \"text-align: right;\">6</td><td style = \"text-align: right;\">false</td><td style = \"text-align: left;\">false</td></tr><tr><td class = \"rowNumber\" style = \"font-weight: bold; text-align: right;\">11</td><td style = \"text-align: right;\">3</td><td style = \"text-align: right;\">3</td><td style = \"text-align: right;\">0</td><td style = \"text-align: right;\">14</td><td style = \"text-align: right;\">3</td><td style = \"text-align: right;\">4</td><td style = \"text-align: right;\">0</td><td style = \"text-align: right;\">0</td><td style = \"text-align: right;\">0</td><td style = \"text-align: right;\">1</td><td style = \"text-align: right;\">0</td><td style = \"text-align: right;\">0</td><td style = \"text-align: right;\">0</td><td style = \"text-align: right;\">1</td><td style = \"text-align: right;\">0</td><td style = \"text-align: right;\">0</td><td style = \"text-align: right;\">0</td><td style = \"text-align: right;\">0</td><td style = \"text-align: right;\">false</td><td style = \"text-align: right;\">true</td><td style = \"text-align: right;\">5</td><td style = \"text-align: right;\">false</td><td style = \"text-align: left;\">false</td></tr><tr><td class = \"rowNumber\" style = \"font-weight: bold; text-align: right;\">12</td><td style = \"text-align: right;\">1</td><td style = \"text-align: right;\">2</td><td style = \"text-align: right;\">1</td><td style = \"text-align: right;\">3</td><td style = \"text-align: right;\">0</td><td style = \"text-align: right;\">4</td><td style = \"text-align: right;\">0</td><td style = \"text-align: right;\">5</td><td style = \"text-align: right;\">0</td><td style = \"text-align: right;\">0</td><td style = \"text-align: right;\">0</td><td style = \"text-align: right;\">0</td><td style = \"text-align: right;\">0</td><td style = \"text-align: right;\">0</td><td style = \"text-align: right;\">1</td><td style = \"text-align: right;\">0</td><td style = \"text-align: right;\">0</td><td style = \"text-align: right;\">0</td><td style = \"text-align: right;\">false</td><td style = \"text-align: right;\">false</td><td style = \"text-align: right;\">3</td><td style = \"text-align: right;\">false</td><td style = \"text-align: left;\">false</td></tr><tr><td class = \"rowNumber\" style = \"font-weight: bold; text-align: right;\">13</td><td style = \"text-align: right;\">5</td><td style = \"text-align: right;\">6</td><td style = \"text-align: right;\">1</td><td style = \"text-align: right;\">14</td><td style = \"text-align: right;\">9</td><td style = \"text-align: right;\">7</td><td style = \"text-align: right;\">12</td><td style = \"text-align: right;\">4</td><td style = \"text-align: right;\">2</td><td style = \"text-align: right;\">1</td><td style = \"text-align: right;\">0</td><td style = \"text-align: right;\">0</td><td style = \"text-align: right;\">0</td><td style = \"text-align: right;\">0</td><td style = \"text-align: right;\">0</td><td style = \"text-align: right;\">1</td><td style = \"text-align: right;\">0</td><td style = \"text-align: right;\">1</td><td style = \"text-align: right;\">false</td><td style = \"text-align: right;\">true</td><td style = \"text-align: right;\">9</td><td style = \"text-align: right;\">true</td><td style = \"text-align: left;\">true</td></tr><tr><td style = \"text-align: right;\">&vellip;</td><td style = \"text-align: right;\">&vellip;</td><td style = \"text-align: right;\">&vellip;</td><td style = \"text-align: right;\">&vellip;</td><td style = \"text-align: right;\">&vellip;</td><td style = \"text-align: right;\">&vellip;</td><td style = \"text-align: right;\">&vellip;</td><td style = \"text-align: right;\">&vellip;</td><td style = \"text-align: right;\">&vellip;</td><td style = \"text-align: right;\">&vellip;</td><td style = \"text-align: right;\">&vellip;</td><td style = \"text-align: right;\">&vellip;</td><td style = \"text-align: right;\">&vellip;</td><td style = \"text-align: right;\">&vellip;</td><td style = \"text-align: right;\">&vellip;</td><td style = \"text-align: right;\">&vellip;</td><td style = \"text-align: right;\">&vellip;</td><td style = \"text-align: right;\">&vellip;</td><td style = \"text-align: right;\">&vellip;</td><td style = \"text-align: right;\">&vellip;</td><td style = \"text-align: right;\">&vellip;</td><td style = \"text-align: right;\">&vellip;</td><td style = \"text-align: right;\">&vellip;</td><td style = \"text-align: right;\">&vellip;</td></tr><tr><td class = \"rowNumber\" style = \"font-weight: bold; text-align: right;\">3989</td><td style = \"text-align: right;\">2</td><td style = \"text-align: right;\">3</td><td style = \"text-align: right;\">1</td><td style = \"text-align: right;\">8</td><td style = \"text-align: right;\">1</td><td style = \"text-align: right;\">2</td><td style = \"text-align: right;\">4</td><td style = \"text-align: right;\">3</td><td style = \"text-align: right;\">15</td><td style = \"text-align: right;\">0</td><td style = \"text-align: right;\">0</td><td style = \"text-align: right;\">0</td><td style = \"text-align: right;\">0</td><td style = \"text-align: right;\">0</td><td style = \"text-align: right;\">3</td><td style = \"text-align: right;\">0</td><td style = \"text-align: right;\">2</td><td style = \"text-align: right;\">1</td><td style = \"text-align: right;\">true</td><td style = \"text-align: right;\">true</td><td style = \"text-align: right;\">8</td><td style = \"text-align: right;\">true</td><td style = \"text-align: left;\">true</td></tr><tr><td class = \"rowNumber\" style = \"font-weight: bold; text-align: right;\">3990</td><td style = \"text-align: right;\">2</td><td style = \"text-align: right;\">2</td><td style = \"text-align: right;\">0</td><td style = \"text-align: right;\">2</td><td style = \"text-align: right;\">0</td><td style = \"text-align: right;\">0</td><td style = \"text-align: right;\">5</td><td style = \"text-align: right;\">3</td><td style = \"text-align: right;\">0</td><td style = \"text-align: right;\">0</td><td style = \"text-align: right;\">0</td><td style = \"text-align: right;\">0</td><td style = \"text-align: right;\">0</td><td style = \"text-align: right;\">0</td><td style = \"text-align: right;\">0</td><td style = \"text-align: right;\">0</td><td style = \"text-align: right;\">0</td><td style = \"text-align: right;\">0</td><td style = \"text-align: right;\">false</td><td style = \"text-align: right;\">false</td><td style = \"text-align: right;\">2</td><td style = \"text-align: right;\">false</td><td style = \"text-align: left;\">false</td></tr><tr><td class = \"rowNumber\" style = \"font-weight: bold; text-align: right;\">3991</td><td style = \"text-align: right;\">2</td><td style = \"text-align: right;\">2</td><td style = \"text-align: right;\">0</td><td style = \"text-align: right;\">2</td><td style = \"text-align: right;\">0</td><td style = \"text-align: right;\">2</td><td style = \"text-align: right;\">15</td><td style = \"text-align: right;\">0</td><td style = \"text-align: right;\">4</td><td style = \"text-align: right;\">0</td><td style = \"text-align: right;\">0</td><td style = \"text-align: right;\">0</td><td style = \"text-align: right;\">0</td><td style = \"text-align: right;\">0</td><td style = \"text-align: right;\">0</td><td style = \"text-align: right;\">0</td><td style = \"text-align: right;\">0</td><td style = \"text-align: right;\">0</td><td style = \"text-align: right;\">false</td><td style = \"text-align: right;\">false</td><td style = \"text-align: right;\">2</td><td style = \"text-align: right;\">false</td><td style = \"text-align: left;\">false</td></tr><tr><td class = \"rowNumber\" style = \"font-weight: bold; text-align: right;\">3992</td><td style = \"text-align: right;\">2</td><td style = \"text-align: right;\">2</td><td style = \"text-align: right;\">0</td><td style = \"text-align: right;\">2</td><td style = \"text-align: right;\">0</td><td style = \"text-align: right;\">3</td><td style = \"text-align: right;\">5</td><td style = \"text-align: right;\">0</td><td style = \"text-align: right;\">4</td><td style = \"text-align: right;\">0</td><td style = \"text-align: right;\">0</td><td style = \"text-align: right;\">0</td><td style = \"text-align: right;\">0</td><td style = \"text-align: right;\">0</td><td style = \"text-align: right;\">1</td><td style = \"text-align: right;\">0</td><td style = \"text-align: right;\">0</td><td style = \"text-align: right;\">0</td><td style = \"text-align: right;\">false</td><td style = \"text-align: right;\">false</td><td style = \"text-align: right;\">2</td><td style = \"text-align: right;\">false</td><td style = \"text-align: left;\">false</td></tr><tr><td class = \"rowNumber\" style = \"font-weight: bold; text-align: right;\">3993</td><td style = \"text-align: right;\">0</td><td style = \"text-align: right;\">3</td><td style = \"text-align: right;\">3</td><td style = \"text-align: right;\">11</td><td style = \"text-align: right;\">4</td><td style = \"text-align: right;\">6</td><td style = \"text-align: right;\">0</td><td style = \"text-align: right;\">16</td><td style = \"text-align: right;\">8</td><td style = \"text-align: right;\">0</td><td style = \"text-align: right;\">1</td><td style = \"text-align: right;\">0</td><td style = \"text-align: right;\">1</td><td style = \"text-align: right;\">0</td><td style = \"text-align: right;\">0</td><td style = \"text-align: right;\">0</td><td style = \"text-align: right;\">0</td><td style = \"text-align: right;\">0</td><td style = \"text-align: right;\">false</td><td style = \"text-align: right;\">false</td><td style = \"text-align: right;\">6</td><td style = \"text-align: right;\">false</td><td style = \"text-align: left;\">false</td></tr><tr><td class = \"rowNumber\" style = \"font-weight: bold; text-align: right;\">3994</td><td style = \"text-align: right;\">2</td><td style = \"text-align: right;\">2</td><td style = \"text-align: right;\">0</td><td style = \"text-align: right;\">2</td><td style = \"text-align: right;\">0</td><td style = \"text-align: right;\">1</td><td style = \"text-align: right;\">9</td><td style = \"text-align: right;\">0</td><td style = \"text-align: right;\">4</td><td style = \"text-align: right;\">0</td><td style = \"text-align: right;\">0</td><td style = \"text-align: right;\">0</td><td style = \"text-align: right;\">0</td><td style = \"text-align: right;\">0</td><td style = \"text-align: right;\">1</td><td style = \"text-align: right;\">0</td><td style = \"text-align: right;\">0</td><td style = \"text-align: right;\">0</td><td style = \"text-align: right;\">false</td><td style = \"text-align: right;\">false</td><td style = \"text-align: right;\">2</td><td style = \"text-align: right;\">false</td><td style = \"text-align: left;\">false</td></tr><tr><td class = \"rowNumber\" style = \"font-weight: bold; text-align: right;\">3995</td><td style = \"text-align: right;\">2</td><td style = \"text-align: right;\">2</td><td style = \"text-align: right;\">0</td><td style = \"text-align: right;\">12</td><td style = \"text-align: right;\">3</td><td style = \"text-align: right;\">2</td><td style = \"text-align: right;\">5</td><td style = \"text-align: right;\">0</td><td style = \"text-align: right;\">0</td><td style = \"text-align: right;\">0</td><td style = \"text-align: right;\">0</td><td style = \"text-align: right;\">1</td><td style = \"text-align: right;\">0</td><td style = \"text-align: right;\">0</td><td style = \"text-align: right;\">0</td><td style = \"text-align: right;\">0</td><td style = \"text-align: right;\">0</td><td style = \"text-align: right;\">0</td><td style = \"text-align: right;\">false</td><td style = \"text-align: right;\">true</td><td style = \"text-align: right;\">4</td><td style = \"text-align: right;\">false</td><td style = \"text-align: left;\">false</td></tr><tr><td class = \"rowNumber\" style = \"font-weight: bold; text-align: right;\">3996</td><td style = \"text-align: right;\">0</td><td style = \"text-align: right;\">2</td><td style = \"text-align: right;\">2</td><td style = \"text-align: right;\">7</td><td style = \"text-align: right;\">0</td><td style = \"text-align: right;\">0</td><td style = \"text-align: right;\">10</td><td style = \"text-align: right;\">6</td><td style = \"text-align: right;\">10</td><td style = \"text-align: right;\">0</td><td style = \"text-align: right;\">0</td><td style = \"text-align: right;\">0</td><td style = \"text-align: right;\">0</td><td style = \"text-align: right;\">0</td><td style = \"text-align: right;\">5</td><td style = \"text-align: right;\">1</td><td style = \"text-align: right;\">1</td><td style = \"text-align: right;\">2</td><td style = \"text-align: right;\">true</td><td style = \"text-align: right;\">false</td><td style = \"text-align: right;\">6</td><td style = \"text-align: right;\">true</td><td style = \"text-align: left;\">true</td></tr><tr><td class = \"rowNumber\" style = \"font-weight: bold; text-align: right;\">3997</td><td style = \"text-align: right;\">2</td><td style = \"text-align: right;\">2</td><td style = \"text-align: right;\">0</td><td style = \"text-align: right;\">6</td><td style = \"text-align: right;\">0</td><td style = \"text-align: right;\">0</td><td style = \"text-align: right;\">5</td><td style = \"text-align: right;\">0</td><td style = \"text-align: right;\">4</td><td style = \"text-align: right;\">0</td><td style = \"text-align: right;\">0</td><td style = \"text-align: right;\">1</td><td style = \"text-align: right;\">0</td><td style = \"text-align: right;\">0</td><td style = \"text-align: right;\">5</td><td style = \"text-align: right;\">0</td><td style = \"text-align: right;\">1</td><td style = \"text-align: right;\">1</td><td style = \"text-align: right;\">true</td><td style = \"text-align: right;\">false</td><td style = \"text-align: right;\">4</td><td style = \"text-align: right;\">false</td><td style = \"text-align: left;\">false</td></tr><tr><td class = \"rowNumber\" style = \"font-weight: bold; text-align: right;\">3998</td><td style = \"text-align: right;\">2</td><td style = \"text-align: right;\">2</td><td style = \"text-align: right;\">0</td><td style = \"text-align: right;\">12</td><td style = \"text-align: right;\">0</td><td style = \"text-align: right;\">3</td><td style = \"text-align: right;\">8</td><td style = \"text-align: right;\">4</td><td style = \"text-align: right;\">0</td><td style = \"text-align: right;\">0</td><td style = \"text-align: right;\">0</td><td style = \"text-align: right;\">0</td><td style = \"text-align: right;\">0</td><td style = \"text-align: right;\">0</td><td style = \"text-align: right;\">3</td><td style = \"text-align: right;\">1</td><td style = \"text-align: right;\">1</td><td style = \"text-align: right;\">1</td><td style = \"text-align: right;\">false</td><td style = \"text-align: right;\">true</td><td style = \"text-align: right;\">4</td><td style = \"text-align: right;\">false</td><td style = \"text-align: left;\">false</td></tr><tr><td class = \"rowNumber\" style = \"font-weight: bold; text-align: right;\">3999</td><td style = \"text-align: right;\">0</td><td style = \"text-align: right;\">3</td><td style = \"text-align: right;\">3</td><td style = \"text-align: right;\">9</td><td style = \"text-align: right;\">0</td><td style = \"text-align: right;\">6</td><td style = \"text-align: right;\">0</td><td style = \"text-align: right;\">8</td><td style = \"text-align: right;\">16</td><td style = \"text-align: right;\">0</td><td style = \"text-align: right;\">0</td><td style = \"text-align: right;\">0</td><td style = \"text-align: right;\">1</td><td style = \"text-align: right;\">0</td><td style = \"text-align: right;\">4</td><td style = \"text-align: right;\">1</td><td style = \"text-align: right;\">0</td><td style = \"text-align: right;\">0</td><td style = \"text-align: right;\">false</td><td style = \"text-align: right;\">false</td><td style = \"text-align: right;\">6</td><td style = \"text-align: right;\">false</td><td style = \"text-align: left;\">false</td></tr><tr><td class = \"rowNumber\" style = \"font-weight: bold; text-align: right;\">4000</td><td style = \"text-align: right;\">4</td><td style = \"text-align: right;\">6</td><td style = \"text-align: right;\">2</td><td style = \"text-align: right;\">14</td><td style = \"text-align: right;\">11</td><td style = \"text-align: right;\">8</td><td style = \"text-align: right;\">0</td><td style = \"text-align: right;\">17</td><td style = \"text-align: right;\">5</td><td style = \"text-align: right;\">0</td><td style = \"text-align: right;\">1</td><td style = \"text-align: right;\">0</td><td style = \"text-align: right;\">0</td><td style = \"text-align: right;\">0</td><td style = \"text-align: right;\">2</td><td style = \"text-align: right;\">0</td><td style = \"text-align: right;\">0</td><td style = \"text-align: right;\">0</td><td style = \"text-align: right;\">false</td><td style = \"text-align: right;\">false</td><td style = \"text-align: right;\">8</td><td style = \"text-align: right;\">true</td><td style = \"text-align: left;\">true</td></tr></tbody></table></div>"
      ],
      "text/latex": [
       "\\begin{tabular}{r|cccccc}\n",
       "\t& CountSettlement & CountTotalSettlement & CountCity & CountRoad & SumWoodDiceWeight & \\\\\n",
       "\t\\hline\n",
       "\t& Int8 & Int8 & Int8 & Int8 & Int8 & \\\\\n",
       "\t\\hline\n",
       "\t1 & 2 & 2 & 0 & 4 & 0 & $\\dots$ \\\\\n",
       "\t2 & 2 & 2 & 0 & 14 & 4 & $\\dots$ \\\\\n",
       "\t3 & 2 & 2 & 0 & 2 & 3 & $\\dots$ \\\\\n",
       "\t4 & 0 & 2 & 2 & 5 & 0 & $\\dots$ \\\\\n",
       "\t5 & 1 & 4 & 3 & 14 & 6 & $\\dots$ \\\\\n",
       "\t6 & 2 & 2 & 0 & 8 & 4 & $\\dots$ \\\\\n",
       "\t7 & 3 & 3 & 0 & 11 & 9 & $\\dots$ \\\\\n",
       "\t8 & 2 & 2 & 0 & 8 & 0 & $\\dots$ \\\\\n",
       "\t9 & 1 & 3 & 2 & 8 & 1 & $\\dots$ \\\\\n",
       "\t10 & 0 & 3 & 3 & 3 & 2 & $\\dots$ \\\\\n",
       "\t11 & 3 & 3 & 0 & 14 & 3 & $\\dots$ \\\\\n",
       "\t12 & 1 & 2 & 1 & 3 & 0 & $\\dots$ \\\\\n",
       "\t13 & 5 & 6 & 1 & 14 & 9 & $\\dots$ \\\\\n",
       "\t14 & 2 & 2 & 0 & 2 & 1 & $\\dots$ \\\\\n",
       "\t15 & 0 & 2 & 2 & 4 & 2 & $\\dots$ \\\\\n",
       "\t16 & 0 & 3 & 3 & 4 & 8 & $\\dots$ \\\\\n",
       "\t17 & 2 & 2 & 0 & 2 & 0 & $\\dots$ \\\\\n",
       "\t18 & 2 & 2 & 0 & 5 & 0 & $\\dots$ \\\\\n",
       "\t19 & 0 & 2 & 2 & 5 & 6 & $\\dots$ \\\\\n",
       "\t20 & 2 & 2 & 0 & 12 & 4 & $\\dots$ \\\\\n",
       "\t21 & 2 & 2 & 0 & 5 & 6 & $\\dots$ \\\\\n",
       "\t22 & 4 & 6 & 2 & 14 & 12 & $\\dots$ \\\\\n",
       "\t23 & 1 & 2 & 1 & 2 & 0 & $\\dots$ \\\\\n",
       "\t24 & 2 & 2 & 0 & 4 & 0 & $\\dots$ \\\\\n",
       "\t$\\dots$ & $\\dots$ & $\\dots$ & $\\dots$ & $\\dots$ & $\\dots$ &  \\\\\n",
       "\\end{tabular}\n"
      ],
      "text/plain": [
       "\u001b[1m4000×23 DataFrame\u001b[0m\n",
       "\u001b[1m  Row \u001b[0m│\u001b[1m CountSettlement \u001b[0m\u001b[1m CountTotalSettlement \u001b[0m\u001b[1m CountCity \u001b[0m\u001b[1m CountRoad \u001b[0m\u001b[1m SumWoodDi\u001b[0m ⋯\n",
       "      │\u001b[90m Int8            \u001b[0m\u001b[90m Int8                 \u001b[0m\u001b[90m Int8      \u001b[0m\u001b[90m Int8      \u001b[0m\u001b[90m Int8     \u001b[0m ⋯\n",
       "──────┼─────────────────────────────────────────────────────────────────────────\n",
       "    1 │               2                     2          0          4            ⋯\n",
       "    2 │               2                     2          0         14\n",
       "    3 │               2                     2          0          2\n",
       "    4 │               0                     2          2          5\n",
       "    5 │               1                     4          3         14            ⋯\n",
       "    6 │               2                     2          0          8\n",
       "    7 │               3                     3          0         11\n",
       "    8 │               2                     2          0          8\n",
       "  ⋮   │        ⋮                  ⋮                ⋮          ⋮              ⋮ ⋱\n",
       " 3994 │               2                     2          0          2            ⋯\n",
       " 3995 │               2                     2          0         12\n",
       " 3996 │               0                     2          2          7\n",
       " 3997 │               2                     2          0          6\n",
       " 3998 │               2                     2          0         12            ⋯\n",
       " 3999 │               0                     3          3          9\n",
       " 4000 │               4                     6          2         14\n",
       "\u001b[36m                                                19 columns and 3985 rows omitted\u001b[0m"
      ]
     },
     "metadata": {},
     "output_type": "display_data"
    }
   ],
   "source": [
    "test_data_csv = \"./data/public_features.csv\"\n",
    "df = CatanLearning.load_typed_features_from_csv(test_data_csv)"
   ]
  },
  {
   "cell_type": "code",
   "execution_count": 6,
   "id": "d6c5de8c",
   "metadata": {},
   "outputs": [
    {
     "data": {
      "text/plain": [
       "4120-element CategoricalDistributions.UnivariateFiniteVector{OrderedFactor{2}, Bool, UInt32, Float64}:\n",
       " UnivariateFinite{OrderedFactor{2}}(false=>1.0, true=>0.0)\n",
       " UnivariateFinite{OrderedFactor{2}}(false=>0.769, true=>0.231)\n",
       " UnivariateFinite{OrderedFactor{2}}(false=>1.0, true=>0.0)\n",
       " UnivariateFinite{OrderedFactor{2}}(false=>1.0, true=>0.0)\n",
       " UnivariateFinite{OrderedFactor{2}}(false=>0.846, true=>0.154)\n",
       " UnivariateFinite{OrderedFactor{2}}(false=>0.462, true=>0.538)\n",
       " UnivariateFinite{OrderedFactor{2}}(false=>0.154, true=>0.846)\n",
       " UnivariateFinite{OrderedFactor{2}}(false=>1.0, true=>0.0)\n",
       " UnivariateFinite{OrderedFactor{2}}(false=>1.0, true=>0.0)\n",
       " UnivariateFinite{OrderedFactor{2}}(false=>0.615, true=>0.385)\n",
       " ⋮\n",
       " UnivariateFinite{OrderedFactor{2}}(false=>1.0, true=>0.0)\n",
       " UnivariateFinite{OrderedFactor{2}}(false=>1.0, true=>0.0)\n",
       " UnivariateFinite{OrderedFactor{2}}(false=>1.0, true=>0.0)\n",
       " UnivariateFinite{OrderedFactor{2}}(false=>0.0769, true=>0.923)\n",
       " UnivariateFinite{OrderedFactor{2}}(false=>0.462, true=>0.538)\n",
       " UnivariateFinite{OrderedFactor{2}}(false=>0.923, true=>0.0769)\n",
       " UnivariateFinite{OrderedFactor{2}}(false=>0.231, true=>0.769)\n",
       " UnivariateFinite{OrderedFactor{2}}(false=>1.0, true=>0.0)\n",
       " UnivariateFinite{OrderedFactor{2}}(false=>0.923, true=>0.0769)"
      ]
     },
     "metadata": {},
     "output_type": "display_data"
    }
   ],
   "source": [
    "\n",
    "rf_res = MLJ.predict(rf_machine, X)\n"
   ]
  },
  {
   "cell_type": "code",
   "execution_count": null,
   "id": "dce7d000",
   "metadata": {},
   "outputs": [
    {
     "data": {
      "text/plain": [
       "Board(Dict(:N => 6, :F => 9, :M => 5, :A => 12, :D => 8, :R => 11, :B => 2, :Q => 9, :P => 5, :I => 10…), Dict(5 => [:M, :P], 7 => [:S], 12 => [:A], 8 => [:D, :K], 4 => [:E, :O], 6 => [:N, :L], 2 => [:B], 11 => [:R, :J], 10 => [:I, :H], 9 => [:F, :Q]…), Dict(:N => :Grain, :F => :Wood, :M => :Grain, :A => :Brick, :D => :Pasture, :R => :Brick, :B => :Stone, :Q => :Stone, :P => :Wood, :I => :Pasture…), Dict{Tuple, Catan.Building}(), Dict{Tuple, Set{Road}}(), Dict{Tuple, Symbol}((1, 2) => :Stone, (6, 5) => :All, (2, 8) => :All, (4, 2) => :Brick, (6, 2) => :All, (1, 4) => :Grain, (5, 9) => :Pasture, (6, 4) => :All, (5, 8) => :Pasture, (3, 2) => :All…), Any[[nothing, nothing, nothing, nothing, nothing, nothing, nothing], [nothing, nothing, nothing, nothing, nothing, nothing, nothing, nothing, nothing], [nothing, nothing, nothing, nothing, nothing, nothing, nothing, nothing, nothing, nothing, nothing], [nothing, nothing, nothing, nothing, nothing, nothing, nothing, nothing, nothing, nothing, nothing], [nothing, nothing, nothing, nothing, nothing, nothing, nothing, nothing, nothing], [nothing, nothing, nothing, nothing, nothing, nothing, nothing]], Catan.Building[], Road[], :C, Any[[nothing, nothing, nothing, nothing, nothing, nothing, nothing], [nothing, nothing, nothing, nothing, nothing, nothing, nothing, nothing, nothing], [nothing, nothing, nothing, nothing, nothing, nothing, nothing, nothing, nothing, nothing, nothing], [nothing, nothing, nothing, nothing, nothing, nothing, nothing, nothing, nothing, nothing, nothing], [nothing, nothing, nothing, nothing, nothing, nothing, nothing, nothing, nothing], [nothing, nothing, nothing, nothing, nothing, nothing, nothing]], Dict(:Stone => 25, :Wood => 25, :Grain => 25, :Brick => 25, :Pasture => 25), nothing, nothing, Dict{String, Any}(\"LOGGER_IO\" => VSCodeServer.IJuliaCore.IJuliaStdio{Base.PipeEndpoint, typeof(VSCodeServer.io_send_callback)}(IOContext(Base.PipeEndpoint(RawFD(21) open, 0 bytes waiting)), VSCodeServer.io_send_callback), \"MAX_TURNS\" => 1000, \"SAVE_GAME_TO_FILE\" => false, \"PRINT_BOARD\" => false, \"GameSettings\" => Dict{String, Any}(), \"PlayerSettings\" => Dict{String, Any}(\"MODEL\" => \"../CatanLearning.jl/data/model.jls\", \"cyan\" => Dict{String, Any}(\"TYPE\" => \"DefaultRobotPlayer\"), \"yellow\" => Dict{String, Any}(\"TYPE\" => \"DefaultRobotPlayer\"), \"blue\" => Dict{String, Any}(\"TYPE\" => \"DefaultRobotPlayer\"), \"green\" => Dict{String, Any}(\"TYPE\" => \"DefaultRobotPlayer\"), \"PUBLIC_MODEL\" => \"../CatanLearning.jl/data/public_model.jls\", \"FEATURES\" => \"./data/features.csv\", \"PUBLIC_FEATURES\" => \"./data/public_features.csv\"), \"LOG_OUTPUT\" => \"\", \"SAVE_FILE_IO\" => IOStream(<file savefile.txt>), \"MAP_FILE\" => \"_temp_map_file.csv\", \"LOG_LEVEL\" => Info…))"
      ]
     },
     "metadata": {},
     "output_type": "display_data"
    }
   ],
   "source": [
    "import Catan: PlayerType, DefaultRobotPlayer\n",
    "players = Vector{PlayerType}([\n",
    "    CatanLearning.EmpathRobotPlayer(:Blue, configs), \n",
    "    DefaultRobotPlayer(:Test2, configs),\n",
    "    DefaultRobotPlayer(:Test3, configs),\n",
    "    DefaultRobotPlayer(:Test4, configs),\n",
    "   ])\n",
    "player = players[1]\n",
    "board = Board(configs)\n"
   ]
  },
  {
   "cell_type": "code",
   "execution_count": 51,
   "id": "9590a107",
   "metadata": {},
   "outputs": [
    {
     "data": {
      "text/plain": [
       "21-element Vector{Pair{Symbol, Float64}}:\n",
       "               :CountSettlement => 0.0\n",
       "          :CountTotalSettlement => 0.0\n",
       "                     :CountCity => 0.0\n",
       "                     :CountRoad => 0.0\n",
       "             :SumWoodDiceWeight => 0.0\n",
       "            :SumBrickDiceWeight => 0.0\n",
       "          :SumPastureDiceWeight => 0.0\n",
       "            :SumStoneDiceWeight => 0.0\n",
       "            :SumGrainDiceWeight => 0.0\n",
       "                 :CountPortWood => 0.0\n",
       "                                ⋮\n",
       "                :CountPortStone => 0.0\n",
       "                :CountPortGrain => 0.0\n",
       "       :CountDevCardsUsedKnight => 0.0\n",
       "     :CountDevCardsUsedMonopoly => 0.0\n",
       " :CountDevCardsUsedYearOfPlenty => 0.0\n",
       " :CountDevCardsUsedRoadBuilding => 0.0\n",
       "                :HasLargestArmy => 0.0\n",
       "                :HasLongestRoad => 0.0\n",
       "      :CountVisibleVictoryPoint => 0.0"
      ]
     },
     "metadata": {},
     "output_type": "display_data"
    }
   ],
   "source": [
    "p_public = PlayerPublicView(player)\n",
    "f = CatanLearning.compute_public_features(board, p_public)\n",
    "#CatanLearning.predict_public_model(rf_machine, board, p_public)\n"
   ]
  },
  {
   "cell_type": "code",
   "execution_count": 58,
   "id": "0b3762b9",
   "metadata": {},
   "outputs": [
    {
     "data": {
      "text/plain": [
       "1-element CategoricalDistributions.UnivariateFiniteVector{OrderedFactor{2}, Bool, UInt32, Float64}:\n",
       " UnivariateFinite{OrderedFactor{2}}(false=>1.0, true=>0.0)"
      ]
     },
     "metadata": {},
     "output_type": "display_data"
    }
   ],
   "source": [
    "X_new = DataFrame(f)\n",
    "CatanLearning.coerce_feature_types!(X_new)\n",
    "p = predict(rf_machine, X_new)"
   ]
  },
  {
   "cell_type": "code",
   "execution_count": 67,
   "id": "64f15d65",
   "metadata": {},
   "outputs": [
    {
     "ename": "DomainError",
     "evalue": "DomainError with Value 3 not in pool. :\n",
     "output_type": "error",
     "traceback": [
      "DomainError with Value 3 not in pool. :\n",
      "\n",
      "\n",
      "Stacktrace:\n",
      " [1] pdf(d::UnivariateFinite{OrderedFactor{2}, Bool, UInt32, Float64}, c::Int64)\n",
      "   @ CategoricalDistributions ~/.julia/packages/CategoricalDistributions/g0UnN/src/methods.jl:169\n",
      " [2] top-level scope\n",
      "   @ ~/Projects/Catan/RunScripts/jl_notebook_cell_df34fa98e69747e1a8f8a730347b8e2f_X16sZmlsZQ==.jl:1"
     ]
    }
   ],
   "source": [
    "pdf(p[1], 3)"
   ]
  },
  {
   "cell_type": "code",
   "execution_count": null,
   "id": "f939b1a3",
   "metadata": {},
   "outputs": [],
   "source": [
    "#MLJ.predict(naive_machine, X)\n",
    "#MLJ.save(naive_machine, \"../CatanLearning/data/naive_public_model.jls\")\n",
    "predict(rf_machine, f)"
   ]
  },
  {
   "cell_type": "code",
   "execution_count": 10,
   "id": "255ccd16",
   "metadata": {},
   "outputs": [
    {
     "data": {
      "text/plain": [
       "Machine{NaivePublicVictoryPoints, NaivePublicVictoryPoints, true}"
      ]
     },
     "metadata": {},
     "output_type": "display_data"
    }
   ],
   "source": [
    "mach = naive_machine\n",
    "typeof(mach)"
   ]
  },
  {
   "cell_type": "code",
   "execution_count": 11,
   "id": "588887e5",
   "metadata": {},
   "outputs": [
    {
     "data": {
      "text/plain": [
       "MLJBase.Source"
      ]
     },
     "metadata": {},
     "output_type": "display_data"
    }
   ],
   "source": [
    "typeof(mach.args[1])"
   ]
  },
  {
   "cell_type": "code",
   "execution_count": 12,
   "id": "657bd7fb",
   "metadata": {},
   "outputs": [],
   "source": []
  }
 ],
 "metadata": {
  "kernelspec": {
   "display_name": "Julia 1.10.4",
   "language": "julia",
   "name": "julia-1.10"
  },
  "language_info": {
   "file_extension": ".jl",
   "mimetype": "application/julia",
   "name": "julia",
   "version": "1.10.4"
  }
 },
 "nbformat": 4,
 "nbformat_minor": 5
}
