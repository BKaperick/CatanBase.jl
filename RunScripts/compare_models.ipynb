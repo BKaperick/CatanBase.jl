{
 "cells": [
  {
   "cell_type": "code",
   "execution_count": 20,
   "id": "6cf06444",
   "metadata": {},
   "outputs": [
    {
     "data": {
      "text/plain": [
       "MLJModelInterface"
      ]
     },
     "metadata": {},
     "output_type": "display_data"
    }
   ],
   "source": [
    "using Catan\n",
    "using CatanLearning\n",
    "using Random\n",
    "using CSV\n",
    "using MLJ\n",
    "using DataFrames\n",
    "import DataFramesMeta as DFM\n",
    "using DelimitedFiles\n",
    "import MLJModelInterface\n",
    "const MMI = MLJModelInterface"
   ]
  },
  {
   "cell_type": "code",
   "execution_count": 21,
   "id": "ed768ba4",
   "metadata": {},
   "outputs": [
    {
     "data": {
      "text/plain": [
       "trained Machine; caches model-specific representations of data\n",
       "  model: NaivePublicVictoryPoints()\n",
       "  args: \n",
       "    1:\tSource @616 ⏎ Nothing\n",
       "    2:\tSource @900 ⏎ Nothing\n"
      ]
     },
     "metadata": {},
     "output_type": "display_data"
    }
   ],
   "source": [
    "function naive_model_proba(X_in)\n",
    "    X = X_in[1]\n",
    "    #println(\"analyzing $X\")\n",
    "    unscaled_feature = X[!,:CountSettlement] + X[!,:CountCity] + 2*(X[!,:HasLargestArmy] + X[!,:HasLongestRoad])\n",
    "    return min.(unscaled_feature ./ 10, 1.0)\n",
    "end\n",
    "\n",
    "MMI.@mlj_model mutable struct NaivePublicVictoryPoints <: MLJModelInterface.Deterministic\n",
    "end\n",
    "\n",
    "MMI.fit(::NaivePublicVictoryPoints, verbosity, data...) = (nothing, nothing, nothing)\n",
    "MMI.predict(model::NaivePublicVictoryPoints, fitresult, new_data...) = naive_model_proba(new_data)\n",
    "\n",
    "model = NaivePublicVictoryPoints()\n",
    "naive_machine = machine(model, nothing, nothing) |> MLJ.fit!"
   ]
  },
  {
   "cell_type": "code",
   "execution_count": 30,
   "id": "ee5376d6",
   "metadata": {},
   "outputs": [
    {
     "name": "stdout",
     "output_type": "stream",
     "text": [
      "Savefile set to savefile.txt\n",
      "Configs loaded from feature_generation.toml\n"
     ]
    },
    {
     "data": {
      "text/plain": [
       "trained Machine; caches model-specific representations of data\n",
       "  model: RandomForestClassifier(max_depth = -1, …)\n",
       "  args: \n"
      ]
     },
     "metadata": {},
     "output_type": "display_data"
    }
   ],
   "source": [
    "config_file = \"feature_generation.toml\"\n",
    "(configs, player_configs, logger) = Catan.parse_configs(config_file)\n",
    "rf_machine = CatanLearning.try_load_public_model_from_csv(player_configs)\n",
    "#rf_machine = CatanLearning.train_model_from_csv(CatanLearning.load_tree_model(), player_configs[\"PUBLIC_FEATURES\"], num_tuning_iterations = 1)"
   ]
  },
  {
   "cell_type": "code",
   "execution_count": 23,
   "id": "e98cf122",
   "metadata": {},
   "outputs": [
    {
     "name": "stdout",
     "output_type": "stream",
     "text": [
      "CountSettlement\n",
      "CountTotalSettlement\n",
      "CountCity\n",
      "CountRoad\n",
      "SumWoodDiceWeight\n",
      "SumBrickDiceWeight\n",
      "SumPastureDiceWeight\n",
      "SumStoneDiceWeight\n",
      "SumGrainDiceWeight\n",
      "CountPortWood\n",
      "CountPortBrick\n",
      "CountPortPasture\n",
      "CountPortStone\n",
      "CountPortGrain\n",
      "CountTotalWood\n",
      "CountTotalBrick\n",
      "CountTotalPasture\n",
      "CountTotalStone\n",
      "CountTotalGrain\n",
      "CountDevCardsKnight\n",
      "CountDevCardsMonopoly\n",
      "CountDevCardsYearOfPlenty\n",
      "CountDevCardsRoadBuilding\n",
      "CountDevCardsVictoryPoint\n",
      "HasLargestArmy\n",
      "HasLongestRoad\n"
     ]
    }
   ],
   "source": [
    "test_data_csv = \"./data/test_public_features.csv\"\n",
    "df = CatanLearning.load_typed_features_from_csv(test_data_csv)\n",
    "y, X = unpack(df, ==(:WonGame));\n",
    "typeof(X)\n",
    "for col in names(X)\n",
    "    println(col)\n",
    "end"
   ]
  },
  {
   "cell_type": "code",
   "execution_count": 26,
   "id": "4980c4c6",
   "metadata": {},
   "outputs": [
    {
     "data": {
      "text/plain": [
       "4120-element CategoricalArrays.CategoricalArray{Bool,1,UInt32}:\n",
       " false\n",
       " true\n",
       " false\n",
       " false\n",
       " false\n",
       " false\n",
       " true\n",
       " false\n",
       " false\n",
       " false\n",
       " ⋮\n",
       " false\n",
       " false\n",
       " false\n",
       " true\n",
       " false\n",
       " false\n",
       " true\n",
       " false\n",
       " false"
      ]
     },
     "metadata": {},
     "output_type": "display_data"
    }
   ],
   "source": [
    "rf_res = mode.(MLJ.predict(rf_machine, X))\n"
   ]
  },
  {
   "cell_type": "code",
   "execution_count": 27,
   "id": "9590a107",
   "metadata": {},
   "outputs": [
    {
     "data": {
      "text/plain": [
       "4120-element Vector{Float64}:\n",
       " 0.3\n",
       " 0.4\n",
       " 0.2\n",
       " 0.2\n",
       " 0.2\n",
       " 0.5\n",
       " 0.4\n",
       " 0.2\n",
       " 0.2\n",
       " 0.5\n",
       " ⋮\n",
       " 0.4\n",
       " 0.5\n",
       " 0.2\n",
       " 0.7\n",
       " 0.5\n",
       " 0.2\n",
       " 0.6\n",
       " 0.2\n",
       " 0.2"
      ]
     },
     "metadata": {},
     "output_type": "display_data"
    }
   ],
   "source": [
    "naive_res = mode.(MLJ.predict(naive_machine, X))"
   ]
  },
  {
   "cell_type": "code",
   "execution_count": null,
   "id": "0b3762b9",
   "metadata": {},
   "outputs": [
    {
     "data": {
      "text/plain": [
       "\"../CatanLearning/data/naive_public_model.jls\""
      ]
     },
     "metadata": {},
     "output_type": "display_data"
    }
   ],
   "source": [
    "#MLJ.predict(naive_machine, X)\n",
    "#MLJ.save(naive_machine, \"../CatanLearning/data/naive_public_model.jls\")"
   ]
  },
  {
   "cell_type": "code",
   "execution_count": 45,
   "id": "255ccd16",
   "metadata": {},
   "outputs": [
    {
     "ename": "MethodError",
     "evalue": "MethodError: no method matching length(::Machine{MLJDecisionTreeInterface.RandomForestClassifier, MLJDecisionTreeInterface.RandomForestClassifier, true})\n\nClosest candidates are:\n  length(!Matched::Distributions.DirichletStats)\n   @ Distributions ~/.julia/packages/Distributions/nmUhn/src/multivariate/dirichlet.jl:186\n  length(!Matched::CSV.Chunks)\n   @ CSV ~/.julia/packages/CSV/XLcqT/src/chunks.jl:88\n  length(!Matched::Combinatorics.IntegerPartitions)\n   @ Combinatorics ~/.julia/packages/Combinatorics/Udg6X/src/partitions.jl:17\n  ...\n",
     "output_type": "error",
     "traceback": [
      "MethodError: no method matching length(::Machine{MLJDecisionTreeInterface.RandomForestClassifier, MLJDecisionTreeInterface.RandomForestClassifier, true})\n",
      "\n",
      "Closest candidates are:\n",
      "  length(!Matched::Distributions.DirichletStats)\n",
      "   @ Distributions ~/.julia/packages/Distributions/nmUhn/src/multivariate/dirichlet.jl:186\n",
      "  length(!Matched::CSV.Chunks)\n",
      "   @ CSV ~/.julia/packages/CSV/XLcqT/src/chunks.jl:88\n",
      "  length(!Matched::Combinatorics.IntegerPartitions)\n",
      "   @ Combinatorics ~/.julia/packages/Combinatorics/Udg6X/src/partitions.jl:17\n",
      "  ...\n",
      "\n",
      "\n",
      "Stacktrace:\n",
      " [1] numobs(::Type{SimpleTraits.Not{MLUtils.IsTable{Machine{MLJDecisionTreeInterface.RandomForestClassifier, MLJDecisionTreeInterface.RandomForestClassifier, true}}}}, data::Machine{MLJDecisionTreeInterface.RandomForestClassifier, MLJDecisionTreeInterface.RandomForestClassifier, true})\n",
      "   @ MLUtils ~/.julia/packages/MLUtils/LmmaQ/src/observation.jl:53\n",
      " [2] numobs\n",
      "   @ ~/.julia/packages/SimpleTraits/l1ZsK/src/SimpleTraits.jl:331 [inlined]\n",
      " [3] check_numobs\n",
      "   @ ~/.julia/packages/StatisticalMeasuresBase/7euvM/src/tools_for_implementers.jl:106 [inlined]\n",
      " [4] _call(measure::StatisticalMeasuresBase.FussyMeasure{StatisticalMeasuresBase.RobustMeasure{StatisticalMeasures._MatthewsCorrelation}, Nothing}, yhat::Machine{MLJDecisionTreeInterface.RandomForestClassifier, MLJDecisionTreeInterface.RandomForestClassifier, true}, y::DataFrame, weight_args::CategoricalArrays.CategoricalVector{Bool, UInt32, Bool, CategoricalArrays.CategoricalValue{Bool, UInt32}, Union{}})\n",
      "   @ StatisticalMeasuresBase ~/.julia/packages/StatisticalMeasuresBase/7euvM/src/fussy_measure.jl:42\n",
      " [5] call(measure::StatisticalMeasuresBase.FussyMeasure{StatisticalMeasuresBase.RobustMeasure{StatisticalMeasures._MatthewsCorrelation}, Nothing}, yhat::Machine{MLJDecisionTreeInterface.RandomForestClassifier, MLJDecisionTreeInterface.RandomForestClassifier, true}, y::DataFrame, weight_args::CategoricalArrays.CategoricalVector{Bool, UInt32, Bool, CategoricalArrays.CategoricalValue{Bool, UInt32}, Union{}})\n",
      "   @ StatisticalMeasuresBase ~/.julia/packages/StatisticalMeasuresBase/7euvM/src/fussy_measure.jl:60\n",
      " [6] (::StatisticalMeasuresBase.FussyMeasure{StatisticalMeasuresBase.RobustMeasure{StatisticalMeasures._MatthewsCorrelation}, Nothing})(::Machine{MLJDecisionTreeInterface.RandomForestClassifier, MLJDecisionTreeInterface.RandomForestClassifier, true}, ::DataFrame, ::Vararg{Any})\n",
      "   @ StatisticalMeasuresBase ~/.julia/packages/StatisticalMeasuresBase/7euvM/src/wrappers.jl:26\n",
      " [7] top-level scope\n",
      "   @ ~/Projects/Catan/RunScripts/jl_notebook_cell_df34fa98e69747e1a8f8a730347b8e2f_X10sZmlsZQ==.jl:3"
     ]
    }
   ],
   "source": [
    "mach = rf_machine\n",
    "\n",
    "mcc(mach, X, y)"
   ]
  },
  {
   "cell_type": "code",
   "execution_count": 32,
   "id": "588887e5",
   "metadata": {},
   "outputs": [
    {
     "data": {
      "text/plain": [
       "(features = [:CountSettlement, :CountTotalSettlement, :CountCity, :CountRoad, :SumWoodDiceWeight, :SumBrickDiceWeight, :SumPastureDiceWeight, :SumStoneDiceWeight, :SumGrainDiceWeight, :CountPortWood  …  :CountTotalPasture, :CountTotalStone, :CountTotalGrain, :CountDevCardsKnight, :CountDevCardsMonopoly, :CountDevCardsYearOfPlenty, :CountDevCardsRoadBuilding, :CountDevCardsVictoryPoint, :HasLargestArmy, :HasLongestRoad],)"
      ]
     },
     "metadata": {},
     "output_type": "display_data"
    }
   ],
   "source": [
    "report(rf_machine)"
   ]
  },
  {
   "cell_type": "code",
   "execution_count": null,
   "id": "657bd7fb",
   "metadata": {},
   "outputs": [],
   "source": []
  }
 ],
 "metadata": {
  "kernelspec": {
   "display_name": "Julia 1.10.4",
   "language": "julia",
   "name": "julia-1.10"
  },
  "language_info": {
   "file_extension": ".jl",
   "mimetype": "application/julia",
   "name": "julia",
   "version": "1.10.4"
  }
 },
 "nbformat": 4,
 "nbformat_minor": 5
}
