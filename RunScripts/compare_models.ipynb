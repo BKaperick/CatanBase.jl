{
 "cells": [
  {
   "cell_type": "code",
   "execution_count": null,
   "id": "6cf06444",
   "metadata": {},
   "outputs": [],
   "source": [
    "using Catan\n",
    "using CatanLearning\n",
    "using Random\n",
    "using CSV\n",
    "using MLJ\n",
    "using DataFrames\n",
    "import DataFramesMeta as DFM\n",
    "using DelimitedFiles\n",
    "import MLJModelInterface\n",
    "const MMI = MLJModelInterface"
   ]
  },
  {
   "cell_type": "code",
   "execution_count": null,
   "id": "ed768ba4",
   "metadata": {},
   "outputs": [],
   "source": [
    "function naive_model_proba(X)\n",
    "    unscaled_feature = X[:CountSettlement] + X[:CountCity] + 2*(X[:HasLargestArmy] + X[:HasLongestRoad])\n",
    "    return min(unscaled_feature / 10, 1.0)\n",
    "end\n",
    "\n",
    "MMI.@mlj_model mutable struct NaivePublicVictoryPoints <: MLJModelInterface.Deterministic\n",
    "end\n",
    "\n",
    "MMI.fit(::NaivePublicVictoryPoints, verbosity, data...) = (nothing, nothing, nothing)\n",
    "MMI.predict(model::NaivePublicVictoryPoints, fitresult, new_data...) = naive_model_proba(new_data)\n",
    "\n",
    "model = NaivePublicVictoryPoints()\n",
    "naive_machine = machine(model, nothing, nothing) |> MLJ.fit!"
   ]
  },
  {
   "cell_type": "code",
   "execution_count": null,
   "id": "ee5376d6",
   "metadata": {},
   "outputs": [],
   "source": [
    "config_file = \"feature_generation.toml\"\n",
    "(configs, player_configs, logger) = Catan.parse_configs(config_file)\n",
    "rf_machine = CatanLearning.try_load_public_model_from_csv(player_configs)\n"
   ]
  },
  {
   "cell_type": "code",
   "execution_count": null,
   "id": "e98cf122",
   "metadata": {},
   "outputs": [],
   "source": [
    "test_data_csv = \"./data/test_public_features.csv\"\n",
    "df = CatanLearning.load_typed_features_from_csv(test_data_csv)\n",
    "y, X = unpack(df, ==(:WonGame));\n",
    "df[1,:]"
   ]
  },
  {
   "cell_type": "code",
   "execution_count": null,
   "id": "10f0aabe",
   "metadata": {},
   "outputs": [],
   "source": [
    "MLJ.predict(naive_machine, nothing, df)"
   ]
  },
  {
   "cell_type": "code",
   "execution_count": null,
   "id": "f2055a5e",
   "metadata": {},
   "outputs": [],
   "source": [
    "header = collect(names(df))\n",
    "vals = collect(df[1,:])\n",
    "CatanLearning._predict_model_feature_vec(rf_machine, vals, header)"
   ]
  },
  {
   "cell_type": "code",
   "execution_count": null,
   "id": "9b39ca36",
   "metadata": {},
   "outputs": [],
   "source": [
    "header = collect(names(X))\n",
    "feature_vals = collect(X[1,:])\n",
    "data = reshape(feature_vals, 1, length(feature_vals))\n",
    "#header = names(machine.data[1])\n",
    "new_df = DataFrame(data, vec(header), makeunique=true)\n",
    "new_df[!,:HasLargestArmy] = convert(Vector{Int8}, new_df[!,:HasLargestArmy])\n",
    "new_df[!,:HasLongestRoad] = convert(Vector{Int8}, new_df[!,:HasLongestRoad])"
   ]
  },
  {
   "cell_type": "code",
   "execution_count": null,
   "id": "020f7f56",
   "metadata": {},
   "outputs": [],
   "source": [
    "MLJ.predict(rf_machine, new_df)"
   ]
  },
  {
   "cell_type": "code",
   "execution_count": null,
   "id": "41790193",
   "metadata": {},
   "outputs": [],
   "source": [
    "new_df"
   ]
  },
  {
   "cell_type": "code",
   "execution_count": null,
   "id": "4980c4c6",
   "metadata": {},
   "outputs": [],
   "source": []
  }
 ],
 "metadata": {
  "kernelspec": {
   "display_name": "Julia 1.10.4",
   "language": "julia",
   "name": "julia-1.10"
  },
  "language_info": {
   "file_extension": ".jl",
   "mimetype": "application/julia",
   "name": "julia",
   "version": "1.10.4"
  }
 },
 "nbformat": 4,
 "nbformat_minor": 5
}
