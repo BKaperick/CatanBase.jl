{
 "cells": [
  {
   "cell_type": "code",
   "execution_count": 1,
   "id": "6cf06444",
   "metadata": {},
   "outputs": [
    {
     "name": "stderr",
     "output_type": "stream",
     "text": [
      "\u001b[36m\u001b[1m[ \u001b[22m\u001b[39m\u001b[36m\u001b[1mInfo: \u001b[22m\u001b[39mRegistering DefaultRobotPlayer\n",
      "\u001b[36m\u001b[1m[ \u001b[22m\u001b[39m\u001b[36m\u001b[1mInfo: \u001b[22m\u001b[39mRegistering HumanPlayer\n",
      "┌ Info: Registering EmpathRobotPlayer\n",
      "└ @ Catan /home/bryan/Projects/Catan/CatanEngine.jl/src/players/structs.jl:120\n",
      "┌ Info: Registering MutatedEmpathRobotPlayer\n",
      "└ @ Catan /home/bryan/Projects/Catan/CatanEngine.jl/src/players/structs.jl:120\n",
      "┌ Info: Registering TemporalDifferencePlayer\n",
      "└ @ Catan /home/bryan/Projects/Catan/CatanEngine.jl/src/players/structs.jl:120\n"
     ]
    },
    {
     "data": {
      "text/plain": [
       "MLJModelInterface"
      ]
     },
     "metadata": {},
     "output_type": "display_data"
    }
   ],
   "source": [
    "using Revise\n",
    "using Catan\n",
    "using CatanLearning\n",
    "using Random\n",
    "using CSV\n",
    "using MLJ\n",
    "using DataFrames\n",
    "import DataFramesMeta as DFM\n",
    "using DelimitedFiles\n",
    "import MLJModelInterface\n",
    "const MMI = MLJModelInterface"
   ]
  },
  {
   "cell_type": "code",
   "execution_count": 2,
   "id": "ed768ba4",
   "metadata": {},
   "outputs": [
    {
     "name": "stderr",
     "output_type": "stream",
     "text": [
      "┌ Info: Training machine(NaivePublicVictoryPoints(), …).\n",
      "└ @ MLJBase /home/bryan/.julia/packages/MLJBase/7nGJF/src/machines.jl:499\n"
     ]
    },
    {
     "data": {
      "text/plain": [
       "trained Machine; caches model-specific representations of data\n",
       "  model: NaivePublicVictoryPoints()\n",
       "  args: \n",
       "    1:\tSource @066 ⏎ Nothing\n",
       "    2:\tSource @759 ⏎ Nothing\n"
      ]
     },
     "metadata": {},
     "output_type": "display_data"
    }
   ],
   "source": [
    "function naive_model_proba(X_in)\n",
    "    X = X_in[1]\n",
    "    #println(\"analyzing $X\")\n",
    "    unscaled_feature = X[!,:CountSettlement] + X[!,:CountCity] + 2*(X[!,:HasLargestArmy] + X[!,:HasLongestRoad])\n",
    "    return min.(unscaled_feature ./ 10, 1.0)\n",
    "end\n",
    "\n",
    "MMI.@mlj_model mutable struct NaivePublicVictoryPoints <: MLJModelInterface.Deterministic\n",
    "end\n",
    "\n",
    "MMI.fit(::NaivePublicVictoryPoints, verbosity, data...) = (nothing, nothing, nothing)\n",
    "MMI.predict(model::NaivePublicVictoryPoints, fitresult, new_data...) = naive_model_proba(new_data)\n",
    "\n",
    "model = NaivePublicVictoryPoints()\n",
    "naive_machine = machine(model, nothing, nothing) |> MLJ.fit!"
   ]
  },
  {
   "cell_type": "code",
   "execution_count": 27,
   "id": "ee5376d6",
   "metadata": {},
   "outputs": [
    {
     "name": "stdout",
     "output_type": "stream",
     "text": [
      "Savefile set to savefile.txt\n",
      "Configs loaded from configs/feature_generation.toml\n"
     ]
    },
    {
     "data": {
      "text/plain": [
       "trained Machine; caches model-specific representations of data\n",
       "  model: RandomForestClassifier(max_depth = -1, …)\n",
       "  args: \n"
      ]
     },
     "metadata": {},
     "output_type": "display_data"
    }
   ],
   "source": [
    "config_file = \"configs/feature_generation.toml\"\n",
    "(configs, player_configs, logger) = Catan.parse_configs(config_file)\n",
    "rf_machine = CatanLearning.try_load_public_model_from_csv(:any, configs)\n",
    "#rf_machine = CatanLearning.train_model_from_csv(CatanLearning.load_tree_model(), player_configs[\"PUBLIC_FEATURES\"], num_tuning_iterations = 1)"
   ]
  },
  {
   "cell_type": "code",
   "execution_count": 35,
   "id": "e98cf122",
   "metadata": {},
   "outputs": [
    {
     "name": "stdout",
     "output_type": "stream",
     "text": [
      "CountSettlement\n",
      "CountTotalSettlement\n",
      "CountCity\n",
      "CountRoad\n",
      "SumWoodDiceWeight\n",
      "SumBrickDiceWeight\n",
      "SumPastureDiceWeight\n",
      "SumStoneDiceWeight\n",
      "SumGrainDiceWeight\n",
      "CountPortWood\n",
      "CountPortBrick\n",
      "CountPortPasture\n",
      "CountPortStone\n",
      "CountPortGrain\n",
      "CountTotalWood\n",
      "CountTotalBrick\n",
      "CountTotalPasture\n",
      "CountTotalStone\n",
      "CountTotalGrain\n",
      "CountDevCardsKnight\n",
      "CountDevCardsMonopoly\n",
      "CountDevCardsYearOfPlenty\n",
      "CountDevCardsRoadBuilding\n",
      "CountDevCardsVictoryPoint\n",
      "HasLargestArmy\n",
      "HasLongestRoad\n"
     ]
    }
   ],
   "source": [
    "test_data_csv = \"./data/public_features.csv\"\n",
    "df = CatanLearning.load_typed_features_from_csv(test_data_csv)\n",
    "y, X = unpack(df, ==(:WonGame));\n",
    "typeof(X)\n",
    "for col in names(X)\n",
    "    println(col)\n",
    "end"
   ]
  },
  {
   "cell_type": "code",
   "execution_count": 36,
   "id": "4980c4c6",
   "metadata": {},
   "outputs": [
    {
     "data": {
      "text/html": [
       "<div><div style = \"float: left;\"><span>262424×27 DataFrame</span></div><div style = \"float: right;\"><span style = \"font-style: italic;\">262399 rows omitted</span></div><div style = \"clear: both;\"></div></div><div class = \"data-frame\" style = \"overflow-x: scroll;\"><table class = \"data-frame\" style = \"margin-bottom: 6px;\"><thead><tr class = \"header\"><th class = \"rowNumber\" style = \"font-weight: bold; text-align: right;\">Row</th><th style = \"text-align: left;\">CountSettlement</th><th style = \"text-align: left;\">CountTotalSettlement</th><th style = \"text-align: left;\">CountCity</th><th style = \"text-align: left;\">CountRoad</th><th style = \"text-align: left;\">SumWoodDiceWeight</th><th style = \"text-align: left;\">SumBrickDiceWeight</th><th style = \"text-align: left;\">SumPastureDiceWeight</th><th style = \"text-align: left;\">SumStoneDiceWeight</th><th style = \"text-align: left;\">SumGrainDiceWeight</th><th style = \"text-align: left;\">CountPortWood</th><th style = \"text-align: left;\">CountPortBrick</th><th style = \"text-align: left;\">CountPortPasture</th><th style = \"text-align: left;\">CountPortStone</th><th style = \"text-align: left;\">CountPortGrain</th><th style = \"text-align: left;\">CountTotalWood</th><th style = \"text-align: left;\">CountTotalBrick</th><th style = \"text-align: left;\">CountTotalPasture</th><th style = \"text-align: left;\">CountTotalStone</th><th style = \"text-align: left;\">CountTotalGrain</th><th style = \"text-align: left;\">CountDevCardsKnight</th><th style = \"text-align: left;\">CountDevCardsMonopoly</th><th style = \"text-align: left;\">CountDevCardsYearOfPlenty</th><th style = \"text-align: left;\">CountDevCardsRoadBuilding</th><th style = \"text-align: left;\">CountDevCardsVictoryPoint</th><th style = \"text-align: left;\">HasLargestArmy</th><th style = \"text-align: left;\">HasLongestRoad</th><th style = \"text-align: left;\">WonGame</th></tr><tr class = \"subheader headerLastRow\"><th class = \"rowNumber\" style = \"font-weight: bold; text-align: right;\"></th><th title = \"Int8\" style = \"text-align: left;\">Int8</th><th title = \"Int8\" style = \"text-align: left;\">Int8</th><th title = \"Int8\" style = \"text-align: left;\">Int8</th><th title = \"Int8\" style = \"text-align: left;\">Int8</th><th title = \"Int8\" style = \"text-align: left;\">Int8</th><th title = \"Int8\" style = \"text-align: left;\">Int8</th><th title = \"Int8\" style = \"text-align: left;\">Int8</th><th title = \"Int8\" style = \"text-align: left;\">Int8</th><th title = \"Int8\" style = \"text-align: left;\">Int8</th><th title = \"Int8\" style = \"text-align: left;\">Int8</th><th title = \"Int8\" style = \"text-align: left;\">Int8</th><th title = \"Int8\" style = \"text-align: left;\">Int8</th><th title = \"Int8\" style = \"text-align: left;\">Int8</th><th title = \"Int8\" style = \"text-align: left;\">Int8</th><th title = \"Int8\" style = \"text-align: left;\">Int8</th><th title = \"Int8\" style = \"text-align: left;\">Int8</th><th title = \"Int8\" style = \"text-align: left;\">Int8</th><th title = \"Int8\" style = \"text-align: left;\">Int8</th><th title = \"Int8\" style = \"text-align: left;\">Int8</th><th title = \"Int8\" style = \"text-align: left;\">Int8</th><th title = \"Int8\" style = \"text-align: left;\">Int8</th><th title = \"Int8\" style = \"text-align: left;\">Int8</th><th title = \"Int8\" style = \"text-align: left;\">Int8</th><th title = \"Int8\" style = \"text-align: left;\">Int8</th><th title = \"Bool\" style = \"text-align: left;\">Bool</th><th title = \"Bool\" style = \"text-align: left;\">Bool</th><th title = \"CategoricalArrays.CategoricalValue{Bool, UInt32}\" style = \"text-align: left;\">Cat…</th></tr></thead><tbody><tr><td class = \"rowNumber\" style = \"font-weight: bold; text-align: right;\">1</td><td style = \"text-align: right;\">2</td><td style = \"text-align: right;\">2</td><td style = \"text-align: right;\">0</td><td style = \"text-align: right;\">3</td><td style = \"text-align: right;\">0</td><td style = \"text-align: right;\">7</td><td style = \"text-align: right;\">0</td><td style = \"text-align: right;\">3</td><td style = \"text-align: right;\">0</td><td style = \"text-align: right;\">0</td><td style = \"text-align: right;\">0</td><td style = \"text-align: right;\">0</td><td style = \"text-align: right;\">0</td><td style = \"text-align: right;\">0</td><td style = \"text-align: right;\">8</td><td style = \"text-align: right;\">8</td><td style = \"text-align: right;\">2</td><td style = \"text-align: right;\">4</td><td style = \"text-align: right;\">2</td><td style = \"text-align: right;\">0</td><td style = \"text-align: right;\">0</td><td style = \"text-align: right;\">0</td><td style = \"text-align: right;\">0</td><td style = \"text-align: right;\">0</td><td style = \"text-align: right;\">false</td><td style = \"text-align: right;\">false</td><td style = \"text-align: left;\">false</td></tr><tr><td class = \"rowNumber\" style = \"font-weight: bold; text-align: right;\">2</td><td style = \"text-align: right;\">2</td><td style = \"text-align: right;\">2</td><td style = \"text-align: right;\">0</td><td style = \"text-align: right;\">5</td><td style = \"text-align: right;\">0</td><td style = \"text-align: right;\">0</td><td style = \"text-align: right;\">5</td><td style = \"text-align: right;\">3</td><td style = \"text-align: right;\">0</td><td style = \"text-align: right;\">0</td><td style = \"text-align: right;\">0</td><td style = \"text-align: right;\">0</td><td style = \"text-align: right;\">0</td><td style = \"text-align: right;\">1</td><td style = \"text-align: right;\">7</td><td style = \"text-align: right;\">7</td><td style = \"text-align: right;\">13</td><td style = \"text-align: right;\">5</td><td style = \"text-align: right;\">6</td><td style = \"text-align: right;\">1</td><td style = \"text-align: right;\">0</td><td style = \"text-align: right;\">0</td><td style = \"text-align: right;\">1</td><td style = \"text-align: right;\">0</td><td style = \"text-align: right;\">false</td><td style = \"text-align: right;\">false</td><td style = \"text-align: left;\">false</td></tr><tr><td class = \"rowNumber\" style = \"font-weight: bold; text-align: right;\">3</td><td style = \"text-align: right;\">2</td><td style = \"text-align: right;\">5</td><td style = \"text-align: right;\">3</td><td style = \"text-align: right;\">14</td><td style = \"text-align: right;\">8</td><td style = \"text-align: right;\">20</td><td style = \"text-align: right;\">2</td><td style = \"text-align: right;\">20</td><td style = \"text-align: right;\">8</td><td style = \"text-align: right;\">0</td><td style = \"text-align: right;\">0</td><td style = \"text-align: right;\">0</td><td style = \"text-align: right;\">0</td><td style = \"text-align: right;\">0</td><td style = \"text-align: right;\">19</td><td style = \"text-align: right;\">19</td><td style = \"text-align: right;\">4</td><td style = \"text-align: right;\">21</td><td style = \"text-align: right;\">10</td><td style = \"text-align: right;\">0</td><td style = \"text-align: right;\">0</td><td style = \"text-align: right;\">1</td><td style = \"text-align: right;\">0</td><td style = \"text-align: right;\">0</td><td style = \"text-align: right;\">false</td><td style = \"text-align: right;\">true</td><td style = \"text-align: left;\">true</td></tr><tr><td class = \"rowNumber\" style = \"font-weight: bold; text-align: right;\">4</td><td style = \"text-align: right;\">2</td><td style = \"text-align: right;\">2</td><td style = \"text-align: right;\">0</td><td style = \"text-align: right;\">4</td><td style = \"text-align: right;\">6</td><td style = \"text-align: right;\">0</td><td style = \"text-align: right;\">0</td><td style = \"text-align: right;\">3</td><td style = \"text-align: right;\">0</td><td style = \"text-align: right;\">0</td><td style = \"text-align: right;\">0</td><td style = \"text-align: right;\">0</td><td style = \"text-align: right;\">0</td><td style = \"text-align: right;\">0</td><td style = \"text-align: right;\">6</td><td style = \"text-align: right;\">6</td><td style = \"text-align: right;\">4</td><td style = \"text-align: right;\">4</td><td style = \"text-align: right;\">4</td><td style = \"text-align: right;\">1</td><td style = \"text-align: right;\">0</td><td style = \"text-align: right;\">0</td><td style = \"text-align: right;\">0</td><td style = \"text-align: right;\">0</td><td style = \"text-align: right;\">false</td><td style = \"text-align: right;\">false</td><td style = \"text-align: left;\">false</td></tr><tr><td class = \"rowNumber\" style = \"font-weight: bold; text-align: right;\">5</td><td style = \"text-align: right;\">4</td><td style = \"text-align: right;\">4</td><td style = \"text-align: right;\">0</td><td style = \"text-align: right;\">14</td><td style = \"text-align: right;\">8</td><td style = \"text-align: right;\">7</td><td style = \"text-align: right;\">0</td><td style = \"text-align: right;\">9</td><td style = \"text-align: right;\">1</td><td style = \"text-align: right;\">0</td><td style = \"text-align: right;\">0</td><td style = \"text-align: right;\">0</td><td style = \"text-align: right;\">0</td><td style = \"text-align: right;\">0</td><td style = \"text-align: right;\">25</td><td style = \"text-align: right;\">25</td><td style = \"text-align: right;\">7</td><td style = \"text-align: right;\">3</td><td style = \"text-align: right;\">8</td><td style = \"text-align: right;\">1</td><td style = \"text-align: right;\">0</td><td style = \"text-align: right;\">0</td><td style = \"text-align: right;\">0</td><td style = \"text-align: right;\">2</td><td style = \"text-align: right;\">false</td><td style = \"text-align: right;\">true</td><td style = \"text-align: left;\">false</td></tr><tr><td class = \"rowNumber\" style = \"font-weight: bold; text-align: right;\">6</td><td style = \"text-align: right;\">3</td><td style = \"text-align: right;\">3</td><td style = \"text-align: right;\">0</td><td style = \"text-align: right;\">9</td><td style = \"text-align: right;\">11</td><td style = \"text-align: right;\">0</td><td style = \"text-align: right;\">10</td><td style = \"text-align: right;\">0</td><td style = \"text-align: right;\">2</td><td style = \"text-align: right;\">0</td><td style = \"text-align: right;\">0</td><td style = \"text-align: right;\">0</td><td style = \"text-align: right;\">0</td><td style = \"text-align: right;\">0</td><td style = \"text-align: right;\">12</td><td style = \"text-align: right;\">12</td><td style = \"text-align: right;\">9</td><td style = \"text-align: right;\">3</td><td style = \"text-align: right;\">6</td><td style = \"text-align: right;\">4</td><td style = \"text-align: right;\">0</td><td style = \"text-align: right;\">0</td><td style = \"text-align: right;\">0</td><td style = \"text-align: right;\">1</td><td style = \"text-align: right;\">false</td><td style = \"text-align: right;\">false</td><td style = \"text-align: left;\">false</td></tr><tr><td class = \"rowNumber\" style = \"font-weight: bold; text-align: right;\">7</td><td style = \"text-align: right;\">1</td><td style = \"text-align: right;\">4</td><td style = \"text-align: right;\">3</td><td style = \"text-align: right;\">11</td><td style = \"text-align: right;\">8</td><td style = \"text-align: right;\">6</td><td style = \"text-align: right;\">0</td><td style = \"text-align: right;\">12</td><td style = \"text-align: right;\">8</td><td style = \"text-align: right;\">1</td><td style = \"text-align: right;\">1</td><td style = \"text-align: right;\">0</td><td style = \"text-align: right;\">0</td><td style = \"text-align: right;\">0</td><td style = \"text-align: right;\">27</td><td style = \"text-align: right;\">27</td><td style = \"text-align: right;\">11</td><td style = \"text-align: right;\">37</td><td style = \"text-align: right;\">35</td><td style = \"text-align: right;\">7</td><td style = \"text-align: right;\">2</td><td style = \"text-align: right;\">2</td><td style = \"text-align: right;\">1</td><td style = \"text-align: right;\">1</td><td style = \"text-align: right;\">true</td><td style = \"text-align: right;\">false</td><td style = \"text-align: left;\">true</td></tr><tr><td class = \"rowNumber\" style = \"font-weight: bold; text-align: right;\">8</td><td style = \"text-align: right;\">3</td><td style = \"text-align: right;\">4</td><td style = \"text-align: right;\">1</td><td style = \"text-align: right;\">10</td><td style = \"text-align: right;\">11</td><td style = \"text-align: right;\">0</td><td style = \"text-align: right;\">11</td><td style = \"text-align: right;\">0</td><td style = \"text-align: right;\">5</td><td style = \"text-align: right;\">0</td><td style = \"text-align: right;\">0</td><td style = \"text-align: right;\">0</td><td style = \"text-align: right;\">0</td><td style = \"text-align: right;\">0</td><td style = \"text-align: right;\">13</td><td style = \"text-align: right;\">13</td><td style = \"text-align: right;\">17</td><td style = \"text-align: right;\">9</td><td style = \"text-align: right;\">13</td><td style = \"text-align: right;\">2</td><td style = \"text-align: right;\">0</td><td style = \"text-align: right;\">0</td><td style = \"text-align: right;\">1</td><td style = \"text-align: right;\">1</td><td style = \"text-align: right;\">false</td><td style = \"text-align: right;\">false</td><td style = \"text-align: left;\">false</td></tr><tr><td class = \"rowNumber\" style = \"font-weight: bold; text-align: right;\">9</td><td style = \"text-align: right;\">0</td><td style = \"text-align: right;\">2</td><td style = \"text-align: right;\">2</td><td style = \"text-align: right;\">5</td><td style = \"text-align: right;\">0</td><td style = \"text-align: right;\">10</td><td style = \"text-align: right;\">14</td><td style = \"text-align: right;\">8</td><td style = \"text-align: right;\">8</td><td style = \"text-align: right;\">0</td><td style = \"text-align: right;\">0</td><td style = \"text-align: right;\">0</td><td style = \"text-align: right;\">0</td><td style = \"text-align: right;\">0</td><td style = \"text-align: right;\">9</td><td style = \"text-align: right;\">9</td><td style = \"text-align: right;\">16</td><td style = \"text-align: right;\">13</td><td style = \"text-align: right;\">11</td><td style = \"text-align: right;\">8</td><td style = \"text-align: right;\">1</td><td style = \"text-align: right;\">0</td><td style = \"text-align: right;\">1</td><td style = \"text-align: right;\">4</td><td style = \"text-align: right;\">true</td><td style = \"text-align: right;\">false</td><td style = \"text-align: left;\">true</td></tr><tr><td class = \"rowNumber\" style = \"font-weight: bold; text-align: right;\">10</td><td style = \"text-align: right;\">0</td><td style = \"text-align: right;\">2</td><td style = \"text-align: right;\">2</td><td style = \"text-align: right;\">14</td><td style = \"text-align: right;\">8</td><td style = \"text-align: right;\">4</td><td style = \"text-align: right;\">0</td><td style = \"text-align: right;\">6</td><td style = \"text-align: right;\">4</td><td style = \"text-align: right;\">0</td><td style = \"text-align: right;\">0</td><td style = \"text-align: right;\">0</td><td style = \"text-align: right;\">0</td><td style = \"text-align: right;\">0</td><td style = \"text-align: right;\">16</td><td style = \"text-align: right;\">16</td><td style = \"text-align: right;\">2</td><td style = \"text-align: right;\">8</td><td style = \"text-align: right;\">7</td><td style = \"text-align: right;\">0</td><td style = \"text-align: right;\">0</td><td style = \"text-align: right;\">1</td><td style = \"text-align: right;\">0</td><td style = \"text-align: right;\">0</td><td style = \"text-align: right;\">false</td><td style = \"text-align: right;\">true</td><td style = \"text-align: left;\">false</td></tr><tr><td class = \"rowNumber\" style = \"font-weight: bold; text-align: right;\">11</td><td style = \"text-align: right;\">4</td><td style = \"text-align: right;\">4</td><td style = \"text-align: right;\">0</td><td style = \"text-align: right;\">14</td><td style = \"text-align: right;\">8</td><td style = \"text-align: right;\">10</td><td style = \"text-align: right;\">13</td><td style = \"text-align: right;\">3</td><td style = \"text-align: right;\">0</td><td style = \"text-align: right;\">0</td><td style = \"text-align: right;\">0</td><td style = \"text-align: right;\">0</td><td style = \"text-align: right;\">0</td><td style = \"text-align: right;\">0</td><td style = \"text-align: right;\">23</td><td style = \"text-align: right;\">23</td><td style = \"text-align: right;\">12</td><td style = \"text-align: right;\">1</td><td style = \"text-align: right;\">4</td><td style = \"text-align: right;\">0</td><td style = \"text-align: right;\">0</td><td style = \"text-align: right;\">0</td><td style = \"text-align: right;\">0</td><td style = \"text-align: right;\">0</td><td style = \"text-align: right;\">false</td><td style = \"text-align: right;\">false</td><td style = \"text-align: left;\">false</td></tr><tr><td class = \"rowNumber\" style = \"font-weight: bold; text-align: right;\">12</td><td style = \"text-align: right;\">2</td><td style = \"text-align: right;\">2</td><td style = \"text-align: right;\">0</td><td style = \"text-align: right;\">3</td><td style = \"text-align: right;\">8</td><td style = \"text-align: right;\">0</td><td style = \"text-align: right;\">0</td><td style = \"text-align: right;\">0</td><td style = \"text-align: right;\">4</td><td style = \"text-align: right;\">1</td><td style = \"text-align: right;\">0</td><td style = \"text-align: right;\">0</td><td style = \"text-align: right;\">0</td><td style = \"text-align: right;\">0</td><td style = \"text-align: right;\">5</td><td style = \"text-align: right;\">5</td><td style = \"text-align: right;\">2</td><td style = \"text-align: right;\">0</td><td style = \"text-align: right;\">5</td><td style = \"text-align: right;\">0</td><td style = \"text-align: right;\">0</td><td style = \"text-align: right;\">0</td><td style = \"text-align: right;\">0</td><td style = \"text-align: right;\">0</td><td style = \"text-align: right;\">false</td><td style = \"text-align: right;\">false</td><td style = \"text-align: left;\">false</td></tr><tr><td class = \"rowNumber\" style = \"font-weight: bold; text-align: right;\">13</td><td style = \"text-align: right;\">4</td><td style = \"text-align: right;\">4</td><td style = \"text-align: right;\">0</td><td style = \"text-align: right;\">14</td><td style = \"text-align: right;\">3</td><td style = \"text-align: right;\">15</td><td style = \"text-align: right;\">4</td><td style = \"text-align: right;\">7</td><td style = \"text-align: right;\">3</td><td style = \"text-align: right;\">0</td><td style = \"text-align: right;\">0</td><td style = \"text-align: right;\">0</td><td style = \"text-align: right;\">0</td><td style = \"text-align: right;\">0</td><td style = \"text-align: right;\">32</td><td style = \"text-align: right;\">32</td><td style = \"text-align: right;\">15</td><td style = \"text-align: right;\">10</td><td style = \"text-align: right;\">13</td><td style = \"text-align: right;\">5</td><td style = \"text-align: right;\">0</td><td style = \"text-align: right;\">1</td><td style = \"text-align: right;\">1</td><td style = \"text-align: right;\">1</td><td style = \"text-align: right;\">true</td><td style = \"text-align: right;\">false</td><td style = \"text-align: left;\">false</td></tr><tr><td style = \"text-align: right;\">&vellip;</td><td style = \"text-align: right;\">&vellip;</td><td style = \"text-align: right;\">&vellip;</td><td style = \"text-align: right;\">&vellip;</td><td style = \"text-align: right;\">&vellip;</td><td style = \"text-align: right;\">&vellip;</td><td style = \"text-align: right;\">&vellip;</td><td style = \"text-align: right;\">&vellip;</td><td style = \"text-align: right;\">&vellip;</td><td style = \"text-align: right;\">&vellip;</td><td style = \"text-align: right;\">&vellip;</td><td style = \"text-align: right;\">&vellip;</td><td style = \"text-align: right;\">&vellip;</td><td style = \"text-align: right;\">&vellip;</td><td style = \"text-align: right;\">&vellip;</td><td style = \"text-align: right;\">&vellip;</td><td style = \"text-align: right;\">&vellip;</td><td style = \"text-align: right;\">&vellip;</td><td style = \"text-align: right;\">&vellip;</td><td style = \"text-align: right;\">&vellip;</td><td style = \"text-align: right;\">&vellip;</td><td style = \"text-align: right;\">&vellip;</td><td style = \"text-align: right;\">&vellip;</td><td style = \"text-align: right;\">&vellip;</td><td style = \"text-align: right;\">&vellip;</td><td style = \"text-align: right;\">&vellip;</td><td style = \"text-align: right;\">&vellip;</td><td style = \"text-align: right;\">&vellip;</td></tr><tr><td class = \"rowNumber\" style = \"font-weight: bold; text-align: right;\">262413</td><td style = \"text-align: right;\">3</td><td style = \"text-align: right;\">5</td><td style = \"text-align: right;\">2</td><td style = \"text-align: right;\">14</td><td style = \"text-align: right;\">7</td><td style = \"text-align: right;\">11</td><td style = \"text-align: right;\">8</td><td style = \"text-align: right;\">8</td><td style = \"text-align: right;\">27</td><td style = \"text-align: right;\">0</td><td style = \"text-align: right;\">0</td><td style = \"text-align: right;\">0</td><td style = \"text-align: right;\">0</td><td style = \"text-align: right;\">0</td><td style = \"text-align: right;\">24</td><td style = \"text-align: right;\">24</td><td style = \"text-align: right;\">16</td><td style = \"text-align: right;\">15</td><td style = \"text-align: right;\">29</td><td style = \"text-align: right;\">7</td><td style = \"text-align: right;\">1</td><td style = \"text-align: right;\">1</td><td style = \"text-align: right;\">1</td><td style = \"text-align: right;\">1</td><td style = \"text-align: right;\">true</td><td style = \"text-align: right;\">false</td><td style = \"text-align: left;\">true</td></tr><tr><td class = \"rowNumber\" style = \"font-weight: bold; text-align: right;\">262414</td><td style = \"text-align: right;\">5</td><td style = \"text-align: right;\">5</td><td style = \"text-align: right;\">0</td><td style = \"text-align: right;\">14</td><td style = \"text-align: right;\">15</td><td style = \"text-align: right;\">5</td><td style = \"text-align: right;\">11</td><td style = \"text-align: right;\">0</td><td style = \"text-align: right;\">5</td><td style = \"text-align: right;\">0</td><td style = \"text-align: right;\">1</td><td style = \"text-align: right;\">0</td><td style = \"text-align: right;\">0</td><td style = \"text-align: right;\">0</td><td style = \"text-align: right;\">22</td><td style = \"text-align: right;\">22</td><td style = \"text-align: right;\">8</td><td style = \"text-align: right;\">1</td><td style = \"text-align: right;\">8</td><td style = \"text-align: right;\">0</td><td style = \"text-align: right;\">0</td><td style = \"text-align: right;\">0</td><td style = \"text-align: right;\">0</td><td style = \"text-align: right;\">1</td><td style = \"text-align: right;\">false</td><td style = \"text-align: right;\">false</td><td style = \"text-align: left;\">false</td></tr><tr><td class = \"rowNumber\" style = \"font-weight: bold; text-align: right;\">262415</td><td style = \"text-align: right;\">3</td><td style = \"text-align: right;\">3</td><td style = \"text-align: right;\">0</td><td style = \"text-align: right;\">5</td><td style = \"text-align: right;\">0</td><td style = \"text-align: right;\">0</td><td style = \"text-align: right;\">6</td><td style = \"text-align: right;\">0</td><td style = \"text-align: right;\">3</td><td style = \"text-align: right;\">0</td><td style = \"text-align: right;\">0</td><td style = \"text-align: right;\">1</td><td style = \"text-align: right;\">0</td><td style = \"text-align: right;\">0</td><td style = \"text-align: right;\">8</td><td style = \"text-align: right;\">8</td><td style = \"text-align: right;\">12</td><td style = \"text-align: right;\">4</td><td style = \"text-align: right;\">9</td><td style = \"text-align: right;\">1</td><td style = \"text-align: right;\">0</td><td style = \"text-align: right;\">0</td><td style = \"text-align: right;\">1</td><td style = \"text-align: right;\">0</td><td style = \"text-align: right;\">false</td><td style = \"text-align: right;\">false</td><td style = \"text-align: left;\">false</td></tr><tr><td class = \"rowNumber\" style = \"font-weight: bold; text-align: right;\">262416</td><td style = \"text-align: right;\">2</td><td style = \"text-align: right;\">2</td><td style = \"text-align: right;\">0</td><td style = \"text-align: right;\">14</td><td style = \"text-align: right;\">5</td><td style = \"text-align: right;\">3</td><td style = \"text-align: right;\">0</td><td style = \"text-align: right;\">2</td><td style = \"text-align: right;\">0</td><td style = \"text-align: right;\">1</td><td style = \"text-align: right;\">0</td><td style = \"text-align: right;\">0</td><td style = \"text-align: right;\">0</td><td style = \"text-align: right;\">0</td><td style = \"text-align: right;\">18</td><td style = \"text-align: right;\">18</td><td style = \"text-align: right;\">4</td><td style = \"text-align: right;\">4</td><td style = \"text-align: right;\">5</td><td style = \"text-align: right;\">1</td><td style = \"text-align: right;\">0</td><td style = \"text-align: right;\">0</td><td style = \"text-align: right;\">0</td><td style = \"text-align: right;\">0</td><td style = \"text-align: right;\">false</td><td style = \"text-align: right;\">true</td><td style = \"text-align: left;\">false</td></tr><tr><td class = \"rowNumber\" style = \"font-weight: bold; text-align: right;\">262417</td><td style = \"text-align: right;\">2</td><td style = \"text-align: right;\">2</td><td style = \"text-align: right;\">0</td><td style = \"text-align: right;\">7</td><td style = \"text-align: right;\">0</td><td style = \"text-align: right;\">5</td><td style = \"text-align: right;\">1</td><td style = \"text-align: right;\">0</td><td style = \"text-align: right;\">0</td><td style = \"text-align: right;\">1</td><td style = \"text-align: right;\">0</td><td style = \"text-align: right;\">0</td><td style = \"text-align: right;\">1</td><td style = \"text-align: right;\">0</td><td style = \"text-align: right;\">15</td><td style = \"text-align: right;\">15</td><td style = \"text-align: right;\">3</td><td style = \"text-align: right;\">0</td><td style = \"text-align: right;\">2</td><td style = \"text-align: right;\">0</td><td style = \"text-align: right;\">0</td><td style = \"text-align: right;\">0</td><td style = \"text-align: right;\">0</td><td style = \"text-align: right;\">0</td><td style = \"text-align: right;\">false</td><td style = \"text-align: right;\">false</td><td style = \"text-align: left;\">false</td></tr><tr><td class = \"rowNumber\" style = \"font-weight: bold; text-align: right;\">262418</td><td style = \"text-align: right;\">4</td><td style = \"text-align: right;\">6</td><td style = \"text-align: right;\">2</td><td style = \"text-align: right;\">14</td><td style = \"text-align: right;\">29</td><td style = \"text-align: right;\">5</td><td style = \"text-align: right;\">4</td><td style = \"text-align: right;\">15</td><td style = \"text-align: right;\">22</td><td style = \"text-align: right;\">0</td><td style = \"text-align: right;\">0</td><td style = \"text-align: right;\">0</td><td style = \"text-align: right;\">0</td><td style = \"text-align: right;\">0</td><td style = \"text-align: right;\">21</td><td style = \"text-align: right;\">21</td><td style = \"text-align: right;\">13</td><td style = \"text-align: right;\">22</td><td style = \"text-align: right;\">25</td><td style = \"text-align: right;\">4</td><td style = \"text-align: right;\">1</td><td style = \"text-align: right;\">0</td><td style = \"text-align: right;\">1</td><td style = \"text-align: right;\">0</td><td style = \"text-align: right;\">true</td><td style = \"text-align: right;\">false</td><td style = \"text-align: left;\">true</td></tr><tr><td class = \"rowNumber\" style = \"font-weight: bold; text-align: right;\">262419</td><td style = \"text-align: right;\">1</td><td style = \"text-align: right;\">2</td><td style = \"text-align: right;\">1</td><td style = \"text-align: right;\">13</td><td style = \"text-align: right;\">6</td><td style = \"text-align: right;\">11</td><td style = \"text-align: right;\">0</td><td style = \"text-align: right;\">2</td><td style = \"text-align: right;\">4</td><td style = \"text-align: right;\">0</td><td style = \"text-align: right;\">0</td><td style = \"text-align: right;\">0</td><td style = \"text-align: right;\">0</td><td style = \"text-align: right;\">0</td><td style = \"text-align: right;\">18</td><td style = \"text-align: right;\">18</td><td style = \"text-align: right;\">3</td><td style = \"text-align: right;\">6</td><td style = \"text-align: right;\">5</td><td style = \"text-align: right;\">1</td><td style = \"text-align: right;\">0</td><td style = \"text-align: right;\">0</td><td style = \"text-align: right;\">0</td><td style = \"text-align: right;\">0</td><td style = \"text-align: right;\">false</td><td style = \"text-align: right;\">false</td><td style = \"text-align: left;\">false</td></tr><tr><td class = \"rowNumber\" style = \"font-weight: bold; text-align: right;\">262420</td><td style = \"text-align: right;\">4</td><td style = \"text-align: right;\">4</td><td style = \"text-align: right;\">0</td><td style = \"text-align: right;\">14</td><td style = \"text-align: right;\">8</td><td style = \"text-align: right;\">5</td><td style = \"text-align: right;\">0</td><td style = \"text-align: right;\">0</td><td style = \"text-align: right;\">9</td><td style = \"text-align: right;\">0</td><td style = \"text-align: right;\">0</td><td style = \"text-align: right;\">0</td><td style = \"text-align: right;\">0</td><td style = \"text-align: right;\">1</td><td style = \"text-align: right;\">20</td><td style = \"text-align: right;\">20</td><td style = \"text-align: right;\">4</td><td style = \"text-align: right;\">0</td><td style = \"text-align: right;\">16</td><td style = \"text-align: right;\">0</td><td style = \"text-align: right;\">0</td><td style = \"text-align: right;\">0</td><td style = \"text-align: right;\">0</td><td style = \"text-align: right;\">0</td><td style = \"text-align: right;\">false</td><td style = \"text-align: right;\">true</td><td style = \"text-align: left;\">false</td></tr><tr><td class = \"rowNumber\" style = \"font-weight: bold; text-align: right;\">262421</td><td style = \"text-align: right;\">2</td><td style = \"text-align: right;\">2</td><td style = \"text-align: right;\">0</td><td style = \"text-align: right;\">8</td><td style = \"text-align: right;\">0</td><td style = \"text-align: right;\">3</td><td style = \"text-align: right;\">1</td><td style = \"text-align: right;\">2</td><td style = \"text-align: right;\">0</td><td style = \"text-align: right;\">0</td><td style = \"text-align: right;\">0</td><td style = \"text-align: right;\">0</td><td style = \"text-align: right;\">0</td><td style = \"text-align: right;\">0</td><td style = \"text-align: right;\">12</td><td style = \"text-align: right;\">12</td><td style = \"text-align: right;\">6</td><td style = \"text-align: right;\">5</td><td style = \"text-align: right;\">4</td><td style = \"text-align: right;\">4</td><td style = \"text-align: right;\">0</td><td style = \"text-align: right;\">0</td><td style = \"text-align: right;\">0</td><td style = \"text-align: right;\">0</td><td style = \"text-align: right;\">false</td><td style = \"text-align: right;\">false</td><td style = \"text-align: left;\">false</td></tr><tr><td class = \"rowNumber\" style = \"font-weight: bold; text-align: right;\">262422</td><td style = \"text-align: right;\">1</td><td style = \"text-align: right;\">3</td><td style = \"text-align: right;\">2</td><td style = \"text-align: right;\">14</td><td style = \"text-align: right;\">16</td><td style = \"text-align: right;\">0</td><td style = \"text-align: right;\">5</td><td style = \"text-align: right;\">4</td><td style = \"text-align: right;\">9</td><td style = \"text-align: right;\">0</td><td style = \"text-align: right;\">0</td><td style = \"text-align: right;\">0</td><td style = \"text-align: right;\">0</td><td style = \"text-align: right;\">0</td><td style = \"text-align: right;\">15</td><td style = \"text-align: right;\">15</td><td style = \"text-align: right;\">8</td><td style = \"text-align: right;\">13</td><td style = \"text-align: right;\">12</td><td style = \"text-align: right;\">6</td><td style = \"text-align: right;\">1</td><td style = \"text-align: right;\">0</td><td style = \"text-align: right;\">1</td><td style = \"text-align: right;\">1</td><td style = \"text-align: right;\">true</td><td style = \"text-align: right;\">true</td><td style = \"text-align: left;\">true</td></tr><tr><td class = \"rowNumber\" style = \"font-weight: bold; text-align: right;\">262423</td><td style = \"text-align: right;\">2</td><td style = \"text-align: right;\">2</td><td style = \"text-align: right;\">0</td><td style = \"text-align: right;\">9</td><td style = \"text-align: right;\">0</td><td style = \"text-align: right;\">5</td><td style = \"text-align: right;\">0</td><td style = \"text-align: right;\">0</td><td style = \"text-align: right;\">0</td><td style = \"text-align: right;\">1</td><td style = \"text-align: right;\">0</td><td style = \"text-align: right;\">0</td><td style = \"text-align: right;\">1</td><td style = \"text-align: right;\">0</td><td style = \"text-align: right;\">34</td><td style = \"text-align: right;\">34</td><td style = \"text-align: right;\">2</td><td style = \"text-align: right;\">2</td><td style = \"text-align: right;\">3</td><td style = \"text-align: right;\">0</td><td style = \"text-align: right;\">0</td><td style = \"text-align: right;\">0</td><td style = \"text-align: right;\">0</td><td style = \"text-align: right;\">0</td><td style = \"text-align: right;\">false</td><td style = \"text-align: right;\">false</td><td style = \"text-align: left;\">false</td></tr><tr><td class = \"rowNumber\" style = \"font-weight: bold; text-align: right;\">262424</td><td style = \"text-align: right;\">2</td><td style = \"text-align: right;\">2</td><td style = \"text-align: right;\">0</td><td style = \"text-align: right;\">7</td><td style = \"text-align: right;\">0</td><td style = \"text-align: right;\">0</td><td style = \"text-align: right;\">0</td><td style = \"text-align: right;\">2</td><td style = \"text-align: right;\">0</td><td style = \"text-align: right;\">0</td><td style = \"text-align: right;\">0</td><td style = \"text-align: right;\">0</td><td style = \"text-align: right;\">0</td><td style = \"text-align: right;\">1</td><td style = \"text-align: right;\">9</td><td style = \"text-align: right;\">9</td><td style = \"text-align: right;\">4</td><td style = \"text-align: right;\">7</td><td style = \"text-align: right;\">4</td><td style = \"text-align: right;\">0</td><td style = \"text-align: right;\">0</td><td style = \"text-align: right;\">1</td><td style = \"text-align: right;\">0</td><td style = \"text-align: right;\">0</td><td style = \"text-align: right;\">false</td><td style = \"text-align: right;\">false</td><td style = \"text-align: left;\">false</td></tr></tbody></table></div>"
      ],
      "text/latex": [
       "\\begin{tabular}{r|cccccc}\n",
       "\t& CountSettlement & CountTotalSettlement & CountCity & CountRoad & SumWoodDiceWeight & \\\\\n",
       "\t\\hline\n",
       "\t& Int8 & Int8 & Int8 & Int8 & Int8 & \\\\\n",
       "\t\\hline\n",
       "\t1 & 2 & 2 & 0 & 3 & 0 & $\\dots$ \\\\\n",
       "\t2 & 2 & 2 & 0 & 5 & 0 & $\\dots$ \\\\\n",
       "\t3 & 2 & 5 & 3 & 14 & 8 & $\\dots$ \\\\\n",
       "\t4 & 2 & 2 & 0 & 4 & 6 & $\\dots$ \\\\\n",
       "\t5 & 4 & 4 & 0 & 14 & 8 & $\\dots$ \\\\\n",
       "\t6 & 3 & 3 & 0 & 9 & 11 & $\\dots$ \\\\\n",
       "\t7 & 1 & 4 & 3 & 11 & 8 & $\\dots$ \\\\\n",
       "\t8 & 3 & 4 & 1 & 10 & 11 & $\\dots$ \\\\\n",
       "\t9 & 0 & 2 & 2 & 5 & 0 & $\\dots$ \\\\\n",
       "\t10 & 0 & 2 & 2 & 14 & 8 & $\\dots$ \\\\\n",
       "\t11 & 4 & 4 & 0 & 14 & 8 & $\\dots$ \\\\\n",
       "\t12 & 2 & 2 & 0 & 3 & 8 & $\\dots$ \\\\\n",
       "\t13 & 4 & 4 & 0 & 14 & 3 & $\\dots$ \\\\\n",
       "\t14 & 2 & 2 & 0 & 4 & 2 & $\\dots$ \\\\\n",
       "\t15 & 2 & 5 & 3 & 14 & 22 & $\\dots$ \\\\\n",
       "\t16 & 2 & 2 & 0 & 4 & 0 & $\\dots$ \\\\\n",
       "\t17 & 0 & 2 & 2 & 8 & 0 & $\\dots$ \\\\\n",
       "\t18 & 2 & 3 & 1 & 14 & 3 & $\\dots$ \\\\\n",
       "\t19 & 2 & 2 & 0 & 12 & 2 & $\\dots$ \\\\\n",
       "\t20 & 1 & 2 & 1 & 6 & 13 & $\\dots$ \\\\\n",
       "\t21 & 3 & 5 & 2 & 14 & 9 & $\\dots$ \\\\\n",
       "\t22 & 2 & 2 & 0 & 3 & 4 & $\\dots$ \\\\\n",
       "\t23 & 2 & 2 & 0 & 6 & 0 & $\\dots$ \\\\\n",
       "\t24 & 0 & 2 & 2 & 10 & 8 & $\\dots$ \\\\\n",
       "\t$\\dots$ & $\\dots$ & $\\dots$ & $\\dots$ & $\\dots$ & $\\dots$ &  \\\\\n",
       "\\end{tabular}\n"
      ],
      "text/plain": [
       "\u001b[1m262424×27 DataFrame\u001b[0m\n",
       "\u001b[1m    Row \u001b[0m│\u001b[1m CountSettlement \u001b[0m\u001b[1m CountTotalSettlement \u001b[0m\u001b[1m CountCity \u001b[0m\u001b[1m CountRoad \u001b[0m\u001b[1m SumWood\u001b[0m ⋯\n",
       "        │\u001b[90m Int8            \u001b[0m\u001b[90m Int8                 \u001b[0m\u001b[90m Int8      \u001b[0m\u001b[90m Int8      \u001b[0m\u001b[90m Int8   \u001b[0m ⋯\n",
       "────────┼───────────────────────────────────────────────────────────────────────\n",
       "      1 │               2                     2          0          3          ⋯\n",
       "      2 │               2                     2          0          5\n",
       "      3 │               2                     5          3         14\n",
       "      4 │               2                     2          0          4\n",
       "      5 │               4                     4          0         14          ⋯\n",
       "      6 │               3                     3          0          9\n",
       "      7 │               1                     4          3         11\n",
       "      8 │               3                     4          1         10\n",
       "   ⋮    │        ⋮                  ⋮                ⋮          ⋮              ⋱\n",
       " 262418 │               4                     6          2         14          ⋯\n",
       " 262419 │               1                     2          1         13\n",
       " 262420 │               4                     4          0         14\n",
       " 262421 │               2                     2          0          8\n",
       " 262422 │               1                     3          2         14          ⋯\n",
       " 262423 │               2                     2          0          9\n",
       " 262424 │               2                     2          0          7\n",
       "\u001b[36m                                              23 columns and 262409 rows omitted\u001b[0m"
      ]
     },
     "metadata": {},
     "output_type": "display_data"
    }
   ],
   "source": [
    "test_data_csv = \"./data/public_features.csv\"\n",
    "df = CatanLearning.load_typed_features_from_csv(test_data_csv)"
   ]
  },
  {
   "cell_type": "code",
   "execution_count": 6,
   "id": "d6c5de8c",
   "metadata": {},
   "outputs": [
    {
     "data": {
      "text/plain": [
       "4120-element CategoricalDistributions.UnivariateFiniteVector{OrderedFactor{2}, Bool, UInt32, Float64}:\n",
       " UnivariateFinite{OrderedFactor{2}}(false=>1.0, true=>0.0)\n",
       " UnivariateFinite{OrderedFactor{2}}(false=>0.769, true=>0.231)\n",
       " UnivariateFinite{OrderedFactor{2}}(false=>1.0, true=>0.0)\n",
       " UnivariateFinite{OrderedFactor{2}}(false=>1.0, true=>0.0)\n",
       " UnivariateFinite{OrderedFactor{2}}(false=>0.846, true=>0.154)\n",
       " UnivariateFinite{OrderedFactor{2}}(false=>0.462, true=>0.538)\n",
       " UnivariateFinite{OrderedFactor{2}}(false=>0.154, true=>0.846)\n",
       " UnivariateFinite{OrderedFactor{2}}(false=>1.0, true=>0.0)\n",
       " UnivariateFinite{OrderedFactor{2}}(false=>1.0, true=>0.0)\n",
       " UnivariateFinite{OrderedFactor{2}}(false=>0.615, true=>0.385)\n",
       " ⋮\n",
       " UnivariateFinite{OrderedFactor{2}}(false=>1.0, true=>0.0)\n",
       " UnivariateFinite{OrderedFactor{2}}(false=>1.0, true=>0.0)\n",
       " UnivariateFinite{OrderedFactor{2}}(false=>1.0, true=>0.0)\n",
       " UnivariateFinite{OrderedFactor{2}}(false=>0.0769, true=>0.923)\n",
       " UnivariateFinite{OrderedFactor{2}}(false=>0.462, true=>0.538)\n",
       " UnivariateFinite{OrderedFactor{2}}(false=>0.923, true=>0.0769)\n",
       " UnivariateFinite{OrderedFactor{2}}(false=>0.231, true=>0.769)\n",
       " UnivariateFinite{OrderedFactor{2}}(false=>1.0, true=>0.0)\n",
       " UnivariateFinite{OrderedFactor{2}}(false=>0.923, true=>0.0769)"
      ]
     },
     "metadata": {},
     "output_type": "display_data"
    }
   ],
   "source": [
    "\n",
    "rf_res = MLJ.predict(rf_machine, X)\n"
   ]
  },
  {
   "cell_type": "code",
   "execution_count": 37,
   "id": "dce7d000",
   "metadata": {},
   "outputs": [
    {
     "data": {
      "text/plain": [
       "Board(Dict(:N => 9, :F => 11, :M => 7, :A => 6, :D => 3, :R => 4, :B => 8, :Q => 6, :P => 5, :I => 3…), Dict(5 => [:P, :O], 7 => [:M], 12 => [:G], 8 => [:B, :C], 4 => [:R, :H], 6 => [:A, :Q], 11 => [:F, :L], 10 => [:S, :E], 2 => [:J], 9 => [:K, :N]…), Dict(:N => :Brick, :F => :Grain, :M => :Wood, :A => :Desert, :D => :Grain, :R => :Brick, :B => :Grain, :Q => :Wood, :P => :Brick, :I => :Pasture…), Dict{Tuple, Catan.Building}(), Dict{Tuple, Set{Road}}(), Dict{Tuple, Symbol}((1, 2) => :All, (6, 5) => :All, (2, 8) => :All, (4, 2) => :Grain, (6, 2) => :Brick, (1, 4) => :Pasture, (5, 9) => :Wood, (6, 4) => :All, (5, 8) => :Wood, (3, 2) => :Stone…), Any[[nothing, nothing, nothing, nothing, nothing, nothing, nothing], [nothing, nothing, nothing, nothing, nothing, nothing, nothing, nothing, nothing], [nothing, nothing, nothing, nothing, nothing, nothing, nothing, nothing, nothing, nothing, nothing], [nothing, nothing, nothing, nothing, nothing, nothing, nothing, nothing, nothing, nothing, nothing], [nothing, nothing, nothing, nothing, nothing, nothing, nothing, nothing, nothing], [nothing, nothing, nothing, nothing, nothing, nothing, nothing]], Catan.Building[], Road[], :A, Any[[nothing, nothing, nothing, nothing, nothing, nothing, nothing], [nothing, nothing, nothing, nothing, nothing, nothing, nothing, nothing, nothing], [nothing, nothing, nothing, nothing, nothing, nothing, nothing, nothing, nothing, nothing, nothing], [nothing, nothing, nothing, nothing, nothing, nothing, nothing, nothing, nothing, nothing, nothing], [nothing, nothing, nothing, nothing, nothing, nothing, nothing, nothing, nothing], [nothing, nothing, nothing, nothing, nothing, nothing, nothing]], Dict(:Stone => 25, :Wood => 25, :Grain => 25, :Brick => 25, :Pasture => 25), nothing, nothing, Dict{String, Any}(\"LOGGER_IO\" => VSCodeServer.IJuliaCore.IJuliaStdio{Base.PipeEndpoint, typeof(VSCodeServer.io_send_callback)}(IOContext(Base.PipeEndpoint(RawFD(21) open, 0 bytes waiting)), VSCodeServer.io_send_callback), \"MAX_TURNS\" => 1000, \"SAVE_GAME_TO_FILE\" => false, \"PRINT_BOARD\" => false, \"GameSettings\" => Dict{String, Any}(), \"PlayerSettings\" => Dict{String, Any}(\"MODEL\" => \"../CatanLearning.jl/data/model.jls\", \"cyan\" => Dict{String, Any}(\"TYPE\" => \"DefaultRobotPlayer\"), \"yellow\" => Dict{String, Any}(\"TYPE\" => \"DefaultRobotPlayer\"), \"blue\" => Dict{String, Any}(\"TYPE\" => \"DefaultRobotPlayer\"), \"green\" => Dict{String, Any}(\"TYPE\" => \"DefaultRobotPlayer\"), \"PUBLIC_MODEL\" => \"../CatanLearning.jl/data/public_model.jls\", \"FEATURES\" => \"./data/features.csv\", \"PUBLIC_FEATURES\" => \"../CatanLearning.jl/test/data/public_features.csv\"), \"LOG_OUTPUT\" => \"\", \"SAVE_FILE_IO\" => IOStream(<file savefile.txt>), \"MAP_FILE\" => \"_temp_map_file.csv\", \"LOG_LEVEL\" => Info…))"
      ]
     },
     "metadata": {},
     "output_type": "display_data"
    }
   ],
   "source": [
    "import Catan: PlayerType, DefaultRobotPlayer, read_map\n",
    "players = Vector{PlayerType}([\n",
    "    CatanLearning.EmpathRobotPlayer(:Blue, configs), \n",
    "    DefaultRobotPlayer(:Test2, configs),\n",
    "    DefaultRobotPlayer(:Test3, configs),\n",
    "    DefaultRobotPlayer(:Test4, configs),\n",
    "   ])\n",
    "player = players[1]\n",
    "board = Board(configs)\n"
   ]
  },
  {
   "cell_type": "code",
   "execution_count": 38,
   "id": "9590a107",
   "metadata": {},
   "outputs": [
    {
     "data": {
      "text/plain": [
       "21-element Vector{Pair{Symbol, Float64}}:\n",
       "               :CountSettlement => 0.0\n",
       "          :CountTotalSettlement => 0.0\n",
       "                     :CountCity => 0.0\n",
       "                     :CountRoad => 0.0\n",
       "             :SumWoodDiceWeight => 0.0\n",
       "            :SumBrickDiceWeight => 0.0\n",
       "          :SumPastureDiceWeight => 0.0\n",
       "            :SumStoneDiceWeight => 0.0\n",
       "            :SumGrainDiceWeight => 0.0\n",
       "                 :CountPortWood => 0.0\n",
       "                                ⋮\n",
       "                :CountPortStone => 0.0\n",
       "                :CountPortGrain => 0.0\n",
       "       :CountDevCardsUsedKnight => 0.0\n",
       "     :CountDevCardsUsedMonopoly => 0.0\n",
       " :CountDevCardsUsedYearOfPlenty => 0.0\n",
       " :CountDevCardsUsedRoadBuilding => 0.0\n",
       "                :HasLargestArmy => 0.0\n",
       "                :HasLongestRoad => 0.0\n",
       "      :CountVisibleVictoryPoint => 0.0"
      ]
     },
     "metadata": {},
     "output_type": "display_data"
    }
   ],
   "source": [
    "p_public = PlayerPublicView(player)\n",
    "f = CatanLearning.compute_public_features(board, p_public)\n",
    "#CatanLearning.predict_public_model(rf_machine, board, p_public)\n"
   ]
  },
  {
   "cell_type": "code",
   "execution_count": 31,
   "id": "0b3762b9",
   "metadata": {},
   "outputs": [
    {
     "ename": "BoundsError",
     "evalue": "BoundsError: attempt to access 21-element Vector{Int8} at index [23]",
     "output_type": "error",
     "traceback": [
      "BoundsError: attempt to access 21-element Vector{Int8} at index [23]\n",
      "\n",
      "Stacktrace:\n",
      "  [1] getindex\n",
      "    @ ./essentials.jl:13 [inlined]\n",
      "  [2] apply_tree(tree::DecisionTree.Node{Int8, UInt32}, features::Vector{Int8})\n",
      "    @ DecisionTree ~/.julia/packages/DecisionTree/0Dw1P/src/classification/main.jl:280\n",
      "  [3] apply_tree\n",
      "    @ ~/.julia/packages/DecisionTree/0Dw1P/src/classification/main.jl:281 [inlined]\n",
      "  [4] #49\n",
      "    @ ./none:0 [inlined]\n",
      "  [5] iterate\n",
      "    @ ./generator.jl:47 [inlined]\n",
      "  [6] collect_to!(dest::Vector{UInt32}, itr::Base.Generator{Vector{Union{DecisionTree.Leaf{UInt32}, DecisionTree.Node{Int8, UInt32}}}, DecisionTree.var\"#49#50\"{Vector{Int8}}}, offs::Int64, st::Int64)\n",
      "    @ Base ./array.jl:892\n",
      "  [7] collect_to_with_first!\n",
      "    @ ./array.jl:870 [inlined]\n",
      "  [8] collect(itr::Base.Generator{Vector{Union{DecisionTree.Leaf{UInt32}, DecisionTree.Node{Int8, UInt32}}}, DecisionTree.var\"#49#50\"{Vector{Int8}}})\n",
      "    @ Base ./array.jl:844\n",
      "  [9] apply_forest_proba\n",
      "    @ ~/.julia/packages/DecisionTree/0Dw1P/src/classification/main.jl:667 [inlined]\n",
      " [10] #51\n",
      "    @ ~/.julia/packages/DecisionTree/0Dw1P/src/classification/main.jl:674 [inlined]\n",
      " [11] stack_function_results(row_fun::DecisionTree.var\"#51#52\"{DecisionTree.Ensemble{Int8, UInt32}, Vector{UInt32}}, X::Matrix{Int8})\n",
      "    @ DecisionTree ~/.julia/packages/DecisionTree/0Dw1P/src/classification/main.jl:28\n",
      " [12] apply_forest_proba\n",
      "    @ ~/.julia/packages/DecisionTree/0Dw1P/src/classification/main.jl:674 [inlined]\n",
      " [13] predict(m::MLJDecisionTreeInterface.RandomForestClassifier, fitresult::Tuple{DecisionTree.Ensemble{Int8, UInt32}, CategoricalArrays.CategoricalVector{Bool, UInt32, Bool, CategoricalArrays.CategoricalValue{Bool, UInt32}, Union{}}, Vector{UInt32}}, Xnew::Matrix{Int8})\n",
      "    @ MLJDecisionTreeInterface ~/.julia/packages/MLJDecisionTreeInterface/CXTSl/src/MLJDecisionTreeInterface.jl:218\n",
      " [14] predict(mach::Machine{MLJDecisionTreeInterface.RandomForestClassifier, MLJDecisionTreeInterface.RandomForestClassifier, true}, Xraw::DataFrame)\n",
      "    @ MLJBase ~/.julia/packages/MLJBase/7nGJF/src/operations.jl:135\n",
      " [15] top-level scope\n",
      "    @ ~/Projects/Catan/RunScripts/jl_notebook_cell_df34fa98e69747e1a8f8a730347b8e2f_W5sZmlsZQ==.jl:3"
     ]
    }
   ],
   "source": [
    "X_new = DataFrame(f)\n",
    "CatanLearning.coerce_feature_types!(X_new)\n",
    "predict(rf_machine, X_new)"
   ]
  },
  {
   "cell_type": "code",
   "execution_count": 34,
   "id": "64f15d65",
   "metadata": {},
   "outputs": [
    {
     "data": {
      "text/plain": [
       "27"
      ]
     },
     "metadata": {},
     "output_type": "display_data"
    }
   ],
   "source": [
    "length(names(X_new))\n",
    "length(names(df))"
   ]
  },
  {
   "cell_type": "code",
   "execution_count": null,
   "id": "f939b1a3",
   "metadata": {},
   "outputs": [],
   "source": [
    "#MLJ.predict(naive_machine, X)\n",
    "#MLJ.save(naive_machine, \"../CatanLearning/data/naive_public_model.jls\")\n",
    "predict(rf_machine, f)"
   ]
  },
  {
   "cell_type": "code",
   "execution_count": 10,
   "id": "255ccd16",
   "metadata": {},
   "outputs": [
    {
     "data": {
      "text/plain": [
       "Machine{NaivePublicVictoryPoints, NaivePublicVictoryPoints, true}"
      ]
     },
     "metadata": {},
     "output_type": "display_data"
    }
   ],
   "source": [
    "mach = naive_machine\n",
    "typeof(mach)"
   ]
  },
  {
   "cell_type": "code",
   "execution_count": 11,
   "id": "588887e5",
   "metadata": {},
   "outputs": [
    {
     "data": {
      "text/plain": [
       "MLJBase.Source"
      ]
     },
     "metadata": {},
     "output_type": "display_data"
    }
   ],
   "source": [
    "typeof(mach.args[1])"
   ]
  },
  {
   "cell_type": "code",
   "execution_count": 12,
   "id": "657bd7fb",
   "metadata": {},
   "outputs": [],
   "source": []
  }
 ],
 "metadata": {
  "kernelspec": {
   "display_name": "Julia 1.10.4",
   "language": "julia",
   "name": "julia-1.10"
  },
  "language_info": {
   "file_extension": ".jl",
   "mimetype": "application/julia",
   "name": "julia",
   "version": "1.10.4"
  }
 },
 "nbformat": 4,
 "nbformat_minor": 5
}
