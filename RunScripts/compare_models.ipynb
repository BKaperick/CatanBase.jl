{
 "cells": [
  {
   "cell_type": "code",
   "execution_count": 3,
   "id": "6cf06444",
   "metadata": {},
   "outputs": [
    {
     "data": {
      "text/plain": [
       "MLJModelInterface"
      ]
     },
     "metadata": {},
     "output_type": "display_data"
    }
   ],
   "source": [
    "using Catan\n",
    "using CatanLearning\n",
    "import MLJModelInterface\n",
    "const MMI = MLJModelInterface"
   ]
  },
  {
   "cell_type": "code",
   "execution_count": null,
   "id": "ed768ba4",
   "metadata": {},
   "outputs": [],
   "source": [
    "function naive_model_proba(X)\n",
    "    unscaled_feature = X[:CountSettlement] + X[:CountCity] + 2*(X[:HasLargestArmy] + X[:HasLongestRoad])\n",
    "    return min(unscaled_feature / 10, 1.0)\n",
    "end\n",
    "\n",
    "MMI.@mlj_model mutable struct NaivePublicVictoryPoints <: MLJModelInterface.Deterministic\n",
    "end\n",
    "\n",
    "MMI.fit(::NaivePublicVictoryPoints, verbosity, data...) = (nothing, nothing, nothing)\n",
    "MMI.predict(model::NaivePublicVictoryPoints, fitresult, new_data...) = naive_model_proba(new_data)\n",
    "\n",
    "naive_machine = "
   ]
  },
  {
   "cell_type": "code",
   "execution_count": 11,
   "id": "ee5376d6",
   "metadata": {},
   "outputs": [
    {
     "name": "stdout",
     "output_type": "stream",
     "text": [
      "Savefile set to savefile.txt\n",
      "Configs loaded from random_player_config.toml\n"
     ]
    },
    {
     "data": {
      "text/plain": [
       "trained Machine; caches model-specific representations of data\n",
       "  model: RandomForestClassifier(max_depth = -1, …)\n",
       "  args: \n"
      ]
     },
     "metadata": {},
     "output_type": "display_data"
    }
   ],
   "source": [
    "config_file = \"random_player_config.toml\"\n",
    "(configs, player_configs, logger) = Catan.parse_configs(config_file)\n",
    "rf_machine = CatanLearning.try_load_model_from_csv(player_configs)"
   ]
  },
  {
   "cell_type": "code",
   "execution_count": 12,
   "id": "1483f484",
   "metadata": {},
   "outputs": [],
   "source": []
  },
  {
   "cell_type": "code",
   "execution_count": null,
   "id": "bcc6ce8a",
   "metadata": {},
   "outputs": [],
   "source": []
  }
 ],
 "metadata": {
  "kernelspec": {
   "display_name": "Julia 1.10.4",
   "language": "julia",
   "name": "julia-1.10"
  },
  "language_info": {
   "file_extension": ".jl",
   "mimetype": "application/julia",
   "name": "julia",
   "version": "1.10.4"
  }
 },
 "nbformat": 4,
 "nbformat_minor": 5
}
