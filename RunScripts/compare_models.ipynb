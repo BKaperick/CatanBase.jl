{
 "cells": [
  {
   "cell_type": "code",
   "execution_count": 1,
   "id": "6cf06444",
   "metadata": {},
   "outputs": [
    {
     "name": "stderr",
     "output_type": "stream",
     "text": [
      "┌ Warning: attempting to remove probably stale pidfile\n",
      "│   path = /home/bryan/.julia/compiled/v1.10/CatanLearning/c4wiD_P1pe2.ji.pidfile\n",
      "└ @ FileWatching.Pidfile /home/bryan/.julia/juliaup/julia-1.10.4+0.x64.linux.gnu/share/julia/stdlib/v1.10/FileWatching/src/pidfile.jl:244\n"
     ]
    },
    {
     "name": "stdout",
     "output_type": "stream",
     "text": [
      "DIR: /home/bryan/Projects/Catan/CatanLearning.jl/src\n"
     ]
    },
    {
     "name": "stderr",
     "output_type": "stream",
     "text": [
      "┌ Info: Registering EmpathRobotPlayer\n",
      "└ @ Catan /home/bryan/Projects/Catan/CatanEngine.jl/src/players/structs.jl:120\n"
     ]
    },
    {
     "data": {
      "text/plain": [
       "MLJModelInterface"
      ]
     },
     "metadata": {},
     "output_type": "display_data"
    }
   ],
   "source": [
    "using Catan\n",
    "using CatanLearning\n",
    "using Random\n",
    "using CSV\n",
    "using MLJ\n",
    "using DataFrames\n",
    "import DataFramesMeta as DFM\n",
    "using DelimitedFiles\n",
    "using MLJDecisionTreeInterface\n",
    "using DecisionTree\n",
    "import MLJModelInterface\n",
    "const MMI = MLJModelInterface"
   ]
  },
  {
   "cell_type": "code",
   "execution_count": 2,
   "id": "ed768ba4",
   "metadata": {},
   "outputs": [
    {
     "name": "stderr",
     "output_type": "stream",
     "text": [
      "┌ Info: Training machine(NaivePublicVictoryPoints(), …).\n",
      "└ @ MLJBase /home/bryan/.julia/packages/MLJBase/7nGJF/src/machines.jl:499\n"
     ]
    },
    {
     "data": {
      "text/plain": [
       "trained Machine; caches model-specific representations of data\n",
       "  model: NaivePublicVictoryPoints()\n",
       "  args: \n",
       "    1:\tSource @323 ⏎ Nothing\n",
       "    2:\tSource @676 ⏎ Nothing\n"
      ]
     },
     "metadata": {},
     "output_type": "display_data"
    }
   ],
   "source": [
    "function naive_model_proba(X)\n",
    "    unscaled_feature = X[:CountSettlement] + X[:CountCity] + 2*(X[:HasLargestArmy] + X[:HasLongestRoad])\n",
    "    return min(unscaled_feature / 10, 1.0)\n",
    "end\n",
    "\n",
    "MMI.@mlj_model mutable struct NaivePublicVictoryPoints <: MLJModelInterface.Deterministic\n",
    "end\n",
    "\n",
    "MMI.fit(::NaivePublicVictoryPoints, verbosity, data...) = (nothing, nothing, nothing)\n",
    "MMI.predict(model::NaivePublicVictoryPoints, fitresult, new_data...) = naive_model_proba(new_data)\n",
    "\n",
    "model = NaivePublicVictoryPoints()\n",
    "naive_machine = machine(model, nothing, nothing) |> MLJ.fit!"
   ]
  },
  {
   "cell_type": "code",
   "execution_count": 3,
   "id": "ee5376d6",
   "metadata": {},
   "outputs": [
    {
     "name": "stdout",
     "output_type": "stream",
     "text": [
      "Savefile set to savefile.txt\n",
      "Configs loaded from feature_generation.toml\n"
     ]
    }
   ],
   "source": [
    "config_file = \"feature_generation.toml\"\n",
    "(configs, player_configs, logger) = Catan.parse_configs(config_file)\n",
    "rf_machine = CatanLearning.try_load_model_from_csv(player_configs)\n",
    "global player_configs"
   ]
  },
  {
   "cell_type": "code",
   "execution_count": 4,
   "id": "1483f484",
   "metadata": {},
   "outputs": [
    {
     "name": "stdout",
     "output_type": "stream",
     "text": [
      "Savefile set to savefile.txt\n",
      "Configs loaded from feature_generation.toml\n"
     ]
    },
    {
     "name": "stderr",
     "output_type": "stream",
     "text": [
      "\u001b[33mEvaluating over 100 metamodels: 100%[=========================] Time: 0:05:03\u001b[39m\u001b[K\n"
     ]
    },
    {
     "data": {
      "text/plain": [
       "trained Machine; caches model-specific representations of data\n",
       "  model: RandomForestClassifier(max_depth = -1, …)\n",
       "  args: \n",
       "    1:\tSource @253 ⏎ Table{Union{AbstractVector{Continuous}, AbstractVector{Count}}}\n",
       "    2:\tSource @009 ⏎ AbstractVector{OrderedFactor{2}}\n"
      ]
     },
     "metadata": {},
     "output_type": "display_data"
    }
   ],
   "source": [
    "\n",
    "(configs, player_configs, logger) = Catan.parse_configs(config_file)\n",
    "\n",
    "tree = Base.invokelatest(@load RandomForestClassifier pkg=DecisionTree verbosity=0)\n",
    "public_mach = CatanLearning.train_public_model_from_csv(tree, player_configs)\n",
    "\n"
   ]
  },
  {
   "cell_type": "code",
   "execution_count": 10,
   "id": "da414fba",
   "metadata": {},
   "outputs": [],
   "source": [
    "MLJ.save(player_configs[\"PUBLIC_MODEL\"], public_mach)"
   ]
  },
  {
   "cell_type": "code",
   "execution_count": 6,
   "id": "035a7253",
   "metadata": {},
   "outputs": [
    {
     "data": {
      "text/plain": [
       "Dict{Symbol, CatanLearning.Feature} with 41 entries:\n",
       "  :SumStoneDiceWeight            => Feature(:SumStoneDiceWeight, Int8, 4.0, 186…\n",
       "  :CountDevCardsMonopoly         => Feature(:CountDevCardsMonopoly, Int8, 0.0, …\n",
       "  :HasLargestArmy                => Feature(:HasLargestArmy, Bool, 0.0, 1.0)\n",
       "  :CountTotalWood                => Feature(:CountTotalWood, Int8, 0.0, 20.0)\n",
       "  :CountDevCardsUsedKnight       => Feature(:CountDevCardsUsedKnight, Int8, 0.0…\n",
       "  :SumGrainDiceWeight            => Feature(:SumGrainDiceWeight, Int8, 4.0, 186…\n",
       "  :PortStone                     => Feature(:PortStone, Int8, 0.0, 1.0)\n",
       "  :CountHandBrick                => Feature(:CountHandBrick, Int8, 0.0, 20.0)\n",
       "  :SumBrickDiceWeight            => Feature(:SumBrickDiceWeight, Int8, 4.0, 186…\n",
       "  :HasLongestRoad                => Feature(:HasLongestRoad, Bool, 0.0, 1.0)\n",
       "  :CountHandPasture              => Feature(:CountHandPasture, Int8, 0.0, 20.0)\n",
       "  :CountDevCardsYearOfPlenty     => Feature(:CountDevCardsYearOfPlenty, Int8, 0…\n",
       "  :CountTotalBrick               => Feature(:CountTotalBrick, Int8, 0.0, 20.0)\n",
       "  :NumberOfTurns                 => Feature(:NumberOfTurns, Int32, 0.0, 10000.0)\n",
       "  :CountHandWood                 => Feature(:CountHandWood, Int8, 0.0, 20.0)\n",
       "  :SumPastureDiceWeight          => Feature(:SumPastureDiceWeight, Int8, 4.0, 1…\n",
       "  :CountVisibleVictoryPoint      => Feature(:CountVisibleVictoryPoint, Int8, 0.…\n",
       "  :PortWood                      => Feature(:PortWood, Int8, 0.0, 1.0)\n",
       "  :CountTotalPasture             => Feature(:CountTotalPasture, Int8, 0.0, 20.0)\n",
       "  ⋮                              => ⋮"
      ]
     },
     "metadata": {},
     "output_type": "display_data"
    }
   ],
   "source": [
    "CatanLearning.feature_library"
   ]
  },
  {
   "cell_type": "code",
   "execution_count": 7,
   "id": "bac237e2",
   "metadata": {},
   "outputs": [
    {
     "ename": "UndefVarError",
     "evalue": "UndefVarError: `df` not defined",
     "output_type": "error",
     "traceback": [
      "UndefVarError: `df` not defined\n",
      "\n",
      "Stacktrace:\n",
      " [1] top-level scope\n",
      "   @ ~/Projects/Catan/RunScripts/jl_notebook_cell_df34fa98e69747e1a8f8a730347b8e2f_W6sZmlsZQ==.jl:1"
     ]
    }
   ],
   "source": [
    "CatanLearning.coerce_feature_types!(df)\n",
    "schema(df)"
   ]
  },
  {
   "cell_type": "code",
   "execution_count": 8,
   "id": "4381fbc5",
   "metadata": {},
   "outputs": [
    {
     "ename": "UndefVarError",
     "evalue": "UndefVarError: `X` not defined",
     "output_type": "error",
     "traceback": [
      "UndefVarError: `X` not defined\n"
     ]
    }
   ],
   "source": [
    "X"
   ]
  },
  {
   "cell_type": "code",
   "execution_count": 9,
   "id": "e98cf122",
   "metadata": {},
   "outputs": [],
   "source": []
  }
 ],
 "metadata": {
  "kernelspec": {
   "display_name": "Julia 1.10.4",
   "language": "julia",
   "name": "julia-1.10"
  },
  "language_info": {
   "file_extension": ".jl",
   "mimetype": "application/julia",
   "name": "julia",
   "version": "1.10.4"
  }
 },
 "nbformat": 4,
 "nbformat_minor": 5
}
