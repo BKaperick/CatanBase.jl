{
 "cells": [
  {
   "cell_type": "code",
   "execution_count": null,
   "id": "37a99d42",
   "metadata": {},
   "outputs": [],
   "source": [
    "using CSV\n",
    "using DataFrames\n",
    "using Plots\n",
    "\n",
    "# Read the CSV file\n",
    "df = CSV.read(\"HybridDryRun/state_values.csv\", DataFrame, header=[\"state_key\", \"value\"])\n",
    "\n",
    "# Plot the \"Temperature\" column\n",
    "sorted_df = sort(df, :value)"
   ]
  },
  {
   "cell_type": "code",
   "execution_count": null,
   "id": "e79f5c81",
   "metadata": {},
   "outputs": [],
   "source": [
    "\n",
    "plot(sorted_df[!,:value], title=\"Estimated value after X games\", ylabel=\"value\", legend=false)\n",
    "#sorted_df = sort(df, :value)\n",
    "\n",
    "#savefig(\"./data/sorted_value_estimates.png\")\n"
   ]
  },
  {
   "cell_type": "code",
   "execution_count": null,
   "id": "f2a84982",
   "metadata": {},
   "outputs": [],
   "source": [
    "plot(df[!,:value], title=\"Estimated value after 9000 games\", ylabel=\"value\", legend=false)"
   ]
  },
  {
   "cell_type": "code",
   "execution_count": null,
   "id": "a4d7a3d5",
   "metadata": {},
   "outputs": [],
   "source": [
    "df = CSV.read(\"data/state_values.csv\", DataFrame, header=[\"state_key\", \"value\"])\n",
    "plot(df[!,:value], title=\"Estimated value after 9000 games\", ylabel=\"value\", legend=false)"
   ]
  },
  {
   "cell_type": "code",
   "execution_count": null,
   "id": "c2a3496e",
   "metadata": {},
   "outputs": [],
   "source": [
    "sorted_df = sort(df, :state_key)\n",
    "plot(sorted_df[!,:state_key], title=\"Key distribution\", ylabel=\"value\", legend=false)"
   ]
  },
  {
   "cell_type": "code",
   "execution_count": null,
   "id": "103c8887",
   "metadata": {},
   "outputs": [],
   "source": [
    "sorted_df[!,:state_key]"
   ]
  },
  {
   "cell_type": "code",
   "execution_count": null,
   "id": "1b3d1274",
   "metadata": {},
   "outputs": [],
   "source": []
  }
 ],
 "metadata": {
  "kernelspec": {
   "display_name": "Julia 1.11.5",
   "language": "julia",
   "name": "julia-1.11"
  },
  "language_info": {
   "file_extension": ".jl",
   "mimetype": "application/julia",
   "name": "julia",
   "version": "1.11.5"
  }
 },
 "nbformat": 4,
 "nbformat_minor": 5
}
